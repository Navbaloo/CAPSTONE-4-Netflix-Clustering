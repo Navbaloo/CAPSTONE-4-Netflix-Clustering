{
  "cells": [
    {
      "cell_type": "markdown",
      "metadata": {
        "id": "view-in-github",
        "colab_type": "text"
      },
      "source": [
        "<a href=\"https://colab.research.google.com/github/Navbaloo/CAPSTONE-4-Netflix-Clustering/blob/main/Netflix_Clustering.ipynb\" target=\"_parent\"><img src=\"https://colab.research.google.com/assets/colab-badge.svg\" alt=\"Open In Colab\"/></a>"
      ]
    },
    {
      "cell_type": "markdown",
      "metadata": {
        "id": "DMc8xchAn-j_"
      },
      "source": [
        "\n",
        "\n",
        "# **NETFLIX MOVIES AND TV SHOWS CLUSTERING**\n",
        "\n",
        "**Unsupervised Machine Learning**\n",
        "\n",
        "**Individually done** \n",
        "\n",
        "**By Navjot Balouria**"
      ]
    },
    {
      "cell_type": "markdown",
      "metadata": {
        "id": "Buus2wyWo0Rc"
      },
      "source": [
        "# **Summary**\n",
        "Netflix, the world’s largest on-demand internet streaming media and online DVD movie rental service provider.it Founded August 29, 1997, in Los Gatos, California by Marc and Reed. It has 69 million members in over 60 countries enjoying more than 100 million hours of TV shows and movies per day Netflix is the world’s leading internet entertainment service with enjoying TV series, documentaries, and feature films across a wide variety of genres and languages. I was curious to analyze the content released in Netflix platform which led me to create these simple, interactive, and exciting visualizations and find similar groups of people.\n",
        "\n",
        "This dataset consists of tv shows and movies available on Netflix as of 2019. The dataset is collected from Fixable which is a third-party Netflix search engine. In 2018, they released an interesting report which shows that the number of TV shows on Netflix has nearly tripled since 2010. The streaming service’s number of movies has decreased by more than 2,000 titles since 2010, while its number of TV shows has nearly tripled. It will be interesting to explore what all other insights can be obtained from the same dataset. Integrating this dataset with other external datasets such as IMDB ratings, rotten tomatoes can also provide many interesting findings.\n"
      ]
    },
    {
      "cell_type": "markdown",
      "metadata": {
        "id": "E5VujyPao_DI"
      },
      "source": [
        "# **GitHub Link** "
      ]
    },
    {
      "cell_type": "markdown",
      "metadata": {
        "id": "VBQ1adhcpL_P"
      },
      "source": [
        "# **Problem Statment**\n",
        "\n",
        "This dataset consists of TV shoes and movies available on Netflix as of 2019. The dataset is collected from Flixable which is a third-party Netflix search engine. In 2018, they released an interesting report which shows that the number of TV shows on Netflix has nearly tripled since 2010. The streaming service's number of movies has decreased by more than 2,000 titles since 2010, while its number of TV shows has nearly tripled. It will be interesting to explore what all other insights can be obtained from the same dataset. Integrating this dataset with other external datasets such as IMDB ratings, rotten tomatoes can be also provide many interesting findings\n",
        "\n",
        "**Objective** - \n",
        "Our objective is to conduct an Exploratory Data Analysis to understand what content is available in different countries and if Netflix has been increasingly focusing on TV rather than movies in recent years. And use these insights to cluster similar content by matching text-based features."
      ]
    },
    {
      "cell_type": "markdown",
      "metadata": {
        "id": "TDhnzFINpm2_"
      },
      "source": [
        "# **Let's Begin**"
      ]
    },
    {
      "cell_type": "markdown",
      "metadata": {
        "id": "I0Q0Sn3CpwlP"
      },
      "source": [
        "# **Know Your Data**"
      ]
    },
    {
      "cell_type": "code",
      "execution_count": 1,
      "metadata": {
        "colab": {
          "base_uri": "https://localhost:8080/"
        },
        "id": "Vk_e60pPp08o",
        "outputId": "63341586-1272-4ae7-c3fa-e67fc8670cbb"
      },
      "outputs": [
        {
          "output_type": "stream",
          "name": "stderr",
          "text": [
            "[nltk_data] Downloading package wordnet to /root/nltk_data...\n",
            "[nltk_data] Downloading package stopwords to /root/nltk_data...\n",
            "[nltk_data]   Unzipping corpora/stopwords.zip.\n",
            "[nltk_data] Downloading package omw-1.4 to /root/nltk_data...\n"
          ]
        }
      ],
      "source": [
        "# importing libraries\n",
        "import pandas as pd\n",
        "import numpy as np\n",
        "from numpy import math\n",
        "import seaborn as sns\n",
        "import matplotlib.pyplot as plt\n",
        "import matplotlib.ticker as mtick\n",
        "from matplotlib.pyplot import figure\n",
        "import plotly.graph_objects as go\n",
        "import plotly.offline as py\n",
        "import plotly.express as px\n",
        "from datetime import datetime as dt\n",
        "from wordcloud import WordCloud, STOPWORDS\n",
        "import re, string, unicodedata\n",
        "import nltk\n",
        "from bs4 import BeautifulSoup\n",
        "from nltk import word_tokenize, sent_tokenize\n",
        "from nltk.corpus import stopwords\n",
        "from nltk.stem import LancasterStemmer, WordNetLemmatizer\n",
        "from nltk.stem import WordNetLemmatizer\n",
        "from sklearn.feature_extraction.text import TfidfVectorizer\n",
        "from sklearn.decomposition import PCA \n",
        "from nltk.stem import WordNetLemmatizer\n",
        "nltk.download('wordnet')\n",
        "import nltk\n",
        "nltk.download('stopwords')\n",
        "from nltk.corpus import stopwords\n",
        "import string\n",
        "string.punctuation\n",
        "nltk.download('omw-1.4')\n",
        "from nltk.tokenize import TweetTokenizer\n",
        "from sklearn.cluster import KMeans\n",
        "from sklearn.metrics import silhouette_score\n",
        "from sklearn.cluster import AgglomerativeClustering\n",
        "import scipy.cluster.hierarchy as shc\n",
        "from sklearn.feature_extraction.text import CountVectorizer\n",
        "from sklearn.metrics.pairwise import cosine_similarity\n",
        "import warnings\n",
        "warnings.filterwarnings('ignore')"
      ]
    },
    {
      "cell_type": "markdown",
      "metadata": {
        "id": "VMhN_x4Sq8bO"
      },
      "source": [
        "# **Loading Dataset**"
      ]
    },
    {
      "cell_type": "code",
      "execution_count": 2,
      "metadata": {
        "id": "pkrhfuvOqSl1"
      },
      "outputs": [],
      "source": [
        "# importing the dataset \n",
        "data_frame = pd.read_csv('/content/drive/MyDrive/NETFLIX MOVIES AND TV SHOWS CLUSTERING.csv')"
      ]
    },
    {
      "cell_type": "markdown",
      "metadata": {
        "id": "CrlDkV1mrDSw"
      },
      "source": [
        "# **Dataset First View**"
      ]
    },
    {
      "cell_type": "code",
      "execution_count": 3,
      "metadata": {
        "colab": {
          "base_uri": "https://localhost:8080/",
          "height": 0
        },
        "id": "TogLx2V-rIzQ",
        "outputId": "41270993-5d4b-4238-922c-b358709e8c03"
      },
      "outputs": [
        {
          "output_type": "execute_result",
          "data": {
            "text/plain": [
              "     show_id     type                                    title  \\\n",
              "0         s1  TV Show                                       3%   \n",
              "1         s2    Movie                                     7:19   \n",
              "2         s3    Movie                                    23:59   \n",
              "3         s4    Movie                                        9   \n",
              "4         s5    Movie                                       21   \n",
              "...      ...      ...                                      ...   \n",
              "7782   s7783    Movie                                     Zozo   \n",
              "7783   s7784    Movie                                   Zubaan   \n",
              "7784   s7785    Movie                        Zulu Man in Japan   \n",
              "7785   s7786  TV Show                    Zumbo's Just Desserts   \n",
              "7786   s7787    Movie  ZZ TOP: THAT LITTLE OL' BAND FROM TEXAS   \n",
              "\n",
              "               director                                               cast  \\\n",
              "0                   NaN  João Miguel, Bianca Comparato, Michel Gomes, R...   \n",
              "1     Jorge Michel Grau  Demián Bichir, Héctor Bonilla, Oscar Serrano, ...   \n",
              "2          Gilbert Chan  Tedd Chan, Stella Chung, Henley Hii, Lawrence ...   \n",
              "3           Shane Acker  Elijah Wood, John C. Reilly, Jennifer Connelly...   \n",
              "4        Robert Luketic  Jim Sturgess, Kevin Spacey, Kate Bosworth, Aar...   \n",
              "...                 ...                                                ...   \n",
              "7782        Josef Fares  Imad Creidi, Antoinette Turk, Elias Gergi, Car...   \n",
              "7783        Mozez Singh  Vicky Kaushal, Sarah-Jane Dias, Raaghav Chanan...   \n",
              "7784                NaN                                            Nasty C   \n",
              "7785                NaN                         Adriano Zumbo, Rachel Khoo   \n",
              "7786           Sam Dunn                                                NaN   \n",
              "\n",
              "                                                country          date_added  \\\n",
              "0                                                Brazil     August 14, 2020   \n",
              "1                                                Mexico   December 23, 2016   \n",
              "2                                             Singapore   December 20, 2018   \n",
              "3                                         United States   November 16, 2017   \n",
              "4                                         United States     January 1, 2020   \n",
              "...                                                 ...                 ...   \n",
              "7782  Sweden, Czech Republic, United Kingdom, Denmar...    October 19, 2020   \n",
              "7783                                              India       March 2, 2019   \n",
              "7784                                                NaN  September 25, 2020   \n",
              "7785                                          Australia    October 31, 2020   \n",
              "7786              United Kingdom, Canada, United States       March 1, 2020   \n",
              "\n",
              "      release_year rating   duration  \\\n",
              "0             2020  TV-MA  4 Seasons   \n",
              "1             2016  TV-MA     93 min   \n",
              "2             2011      R     78 min   \n",
              "3             2009  PG-13     80 min   \n",
              "4             2008  PG-13    123 min   \n",
              "...            ...    ...        ...   \n",
              "7782          2005  TV-MA     99 min   \n",
              "7783          2015  TV-14    111 min   \n",
              "7784          2019  TV-MA     44 min   \n",
              "7785          2019  TV-PG   1 Season   \n",
              "7786          2019  TV-MA     90 min   \n",
              "\n",
              "                                              listed_in  \\\n",
              "0     International TV Shows, TV Dramas, TV Sci-Fi &...   \n",
              "1                          Dramas, International Movies   \n",
              "2                   Horror Movies, International Movies   \n",
              "3     Action & Adventure, Independent Movies, Sci-Fi...   \n",
              "4                                                Dramas   \n",
              "...                                                 ...   \n",
              "7782                       Dramas, International Movies   \n",
              "7783     Dramas, International Movies, Music & Musicals   \n",
              "7784  Documentaries, International Movies, Music & M...   \n",
              "7785                 International TV Shows, Reality TV   \n",
              "7786                    Documentaries, Music & Musicals   \n",
              "\n",
              "                                            description  \n",
              "0     In a future where the elite inhabit an island ...  \n",
              "1     After a devastating earthquake hits Mexico Cit...  \n",
              "2     When an army recruit is found dead, his fellow...  \n",
              "3     In a postapocalyptic world, rag-doll robots hi...  \n",
              "4     A brilliant group of students become card-coun...  \n",
              "...                                                 ...  \n",
              "7782  When Lebanon's Civil War deprives Zozo of his ...  \n",
              "7783  A scrappy but poor boy worms his way into a ty...  \n",
              "7784  In this documentary, South African rapper Nast...  \n",
              "7785  Dessert wizard Adriano Zumbo looks for the nex...  \n",
              "7786  This documentary delves into the mystique behi...  \n",
              "\n",
              "[7787 rows x 12 columns]"
            ],
            "text/html": [
              "\n",
              "  <div id=\"df-03fac064-6f24-4818-aa94-6bb095a5740f\">\n",
              "    <div class=\"colab-df-container\">\n",
              "      <div>\n",
              "<style scoped>\n",
              "    .dataframe tbody tr th:only-of-type {\n",
              "        vertical-align: middle;\n",
              "    }\n",
              "\n",
              "    .dataframe tbody tr th {\n",
              "        vertical-align: top;\n",
              "    }\n",
              "\n",
              "    .dataframe thead th {\n",
              "        text-align: right;\n",
              "    }\n",
              "</style>\n",
              "<table border=\"1\" class=\"dataframe\">\n",
              "  <thead>\n",
              "    <tr style=\"text-align: right;\">\n",
              "      <th></th>\n",
              "      <th>show_id</th>\n",
              "      <th>type</th>\n",
              "      <th>title</th>\n",
              "      <th>director</th>\n",
              "      <th>cast</th>\n",
              "      <th>country</th>\n",
              "      <th>date_added</th>\n",
              "      <th>release_year</th>\n",
              "      <th>rating</th>\n",
              "      <th>duration</th>\n",
              "      <th>listed_in</th>\n",
              "      <th>description</th>\n",
              "    </tr>\n",
              "  </thead>\n",
              "  <tbody>\n",
              "    <tr>\n",
              "      <th>0</th>\n",
              "      <td>s1</td>\n",
              "      <td>TV Show</td>\n",
              "      <td>3%</td>\n",
              "      <td>NaN</td>\n",
              "      <td>João Miguel, Bianca Comparato, Michel Gomes, R...</td>\n",
              "      <td>Brazil</td>\n",
              "      <td>August 14, 2020</td>\n",
              "      <td>2020</td>\n",
              "      <td>TV-MA</td>\n",
              "      <td>4 Seasons</td>\n",
              "      <td>International TV Shows, TV Dramas, TV Sci-Fi &amp;...</td>\n",
              "      <td>In a future where the elite inhabit an island ...</td>\n",
              "    </tr>\n",
              "    <tr>\n",
              "      <th>1</th>\n",
              "      <td>s2</td>\n",
              "      <td>Movie</td>\n",
              "      <td>7:19</td>\n",
              "      <td>Jorge Michel Grau</td>\n",
              "      <td>Demián Bichir, Héctor Bonilla, Oscar Serrano, ...</td>\n",
              "      <td>Mexico</td>\n",
              "      <td>December 23, 2016</td>\n",
              "      <td>2016</td>\n",
              "      <td>TV-MA</td>\n",
              "      <td>93 min</td>\n",
              "      <td>Dramas, International Movies</td>\n",
              "      <td>After a devastating earthquake hits Mexico Cit...</td>\n",
              "    </tr>\n",
              "    <tr>\n",
              "      <th>2</th>\n",
              "      <td>s3</td>\n",
              "      <td>Movie</td>\n",
              "      <td>23:59</td>\n",
              "      <td>Gilbert Chan</td>\n",
              "      <td>Tedd Chan, Stella Chung, Henley Hii, Lawrence ...</td>\n",
              "      <td>Singapore</td>\n",
              "      <td>December 20, 2018</td>\n",
              "      <td>2011</td>\n",
              "      <td>R</td>\n",
              "      <td>78 min</td>\n",
              "      <td>Horror Movies, International Movies</td>\n",
              "      <td>When an army recruit is found dead, his fellow...</td>\n",
              "    </tr>\n",
              "    <tr>\n",
              "      <th>3</th>\n",
              "      <td>s4</td>\n",
              "      <td>Movie</td>\n",
              "      <td>9</td>\n",
              "      <td>Shane Acker</td>\n",
              "      <td>Elijah Wood, John C. Reilly, Jennifer Connelly...</td>\n",
              "      <td>United States</td>\n",
              "      <td>November 16, 2017</td>\n",
              "      <td>2009</td>\n",
              "      <td>PG-13</td>\n",
              "      <td>80 min</td>\n",
              "      <td>Action &amp; Adventure, Independent Movies, Sci-Fi...</td>\n",
              "      <td>In a postapocalyptic world, rag-doll robots hi...</td>\n",
              "    </tr>\n",
              "    <tr>\n",
              "      <th>4</th>\n",
              "      <td>s5</td>\n",
              "      <td>Movie</td>\n",
              "      <td>21</td>\n",
              "      <td>Robert Luketic</td>\n",
              "      <td>Jim Sturgess, Kevin Spacey, Kate Bosworth, Aar...</td>\n",
              "      <td>United States</td>\n",
              "      <td>January 1, 2020</td>\n",
              "      <td>2008</td>\n",
              "      <td>PG-13</td>\n",
              "      <td>123 min</td>\n",
              "      <td>Dramas</td>\n",
              "      <td>A brilliant group of students become card-coun...</td>\n",
              "    </tr>\n",
              "    <tr>\n",
              "      <th>...</th>\n",
              "      <td>...</td>\n",
              "      <td>...</td>\n",
              "      <td>...</td>\n",
              "      <td>...</td>\n",
              "      <td>...</td>\n",
              "      <td>...</td>\n",
              "      <td>...</td>\n",
              "      <td>...</td>\n",
              "      <td>...</td>\n",
              "      <td>...</td>\n",
              "      <td>...</td>\n",
              "      <td>...</td>\n",
              "    </tr>\n",
              "    <tr>\n",
              "      <th>7782</th>\n",
              "      <td>s7783</td>\n",
              "      <td>Movie</td>\n",
              "      <td>Zozo</td>\n",
              "      <td>Josef Fares</td>\n",
              "      <td>Imad Creidi, Antoinette Turk, Elias Gergi, Car...</td>\n",
              "      <td>Sweden, Czech Republic, United Kingdom, Denmar...</td>\n",
              "      <td>October 19, 2020</td>\n",
              "      <td>2005</td>\n",
              "      <td>TV-MA</td>\n",
              "      <td>99 min</td>\n",
              "      <td>Dramas, International Movies</td>\n",
              "      <td>When Lebanon's Civil War deprives Zozo of his ...</td>\n",
              "    </tr>\n",
              "    <tr>\n",
              "      <th>7783</th>\n",
              "      <td>s7784</td>\n",
              "      <td>Movie</td>\n",
              "      <td>Zubaan</td>\n",
              "      <td>Mozez Singh</td>\n",
              "      <td>Vicky Kaushal, Sarah-Jane Dias, Raaghav Chanan...</td>\n",
              "      <td>India</td>\n",
              "      <td>March 2, 2019</td>\n",
              "      <td>2015</td>\n",
              "      <td>TV-14</td>\n",
              "      <td>111 min</td>\n",
              "      <td>Dramas, International Movies, Music &amp; Musicals</td>\n",
              "      <td>A scrappy but poor boy worms his way into a ty...</td>\n",
              "    </tr>\n",
              "    <tr>\n",
              "      <th>7784</th>\n",
              "      <td>s7785</td>\n",
              "      <td>Movie</td>\n",
              "      <td>Zulu Man in Japan</td>\n",
              "      <td>NaN</td>\n",
              "      <td>Nasty C</td>\n",
              "      <td>NaN</td>\n",
              "      <td>September 25, 2020</td>\n",
              "      <td>2019</td>\n",
              "      <td>TV-MA</td>\n",
              "      <td>44 min</td>\n",
              "      <td>Documentaries, International Movies, Music &amp; M...</td>\n",
              "      <td>In this documentary, South African rapper Nast...</td>\n",
              "    </tr>\n",
              "    <tr>\n",
              "      <th>7785</th>\n",
              "      <td>s7786</td>\n",
              "      <td>TV Show</td>\n",
              "      <td>Zumbo's Just Desserts</td>\n",
              "      <td>NaN</td>\n",
              "      <td>Adriano Zumbo, Rachel Khoo</td>\n",
              "      <td>Australia</td>\n",
              "      <td>October 31, 2020</td>\n",
              "      <td>2019</td>\n",
              "      <td>TV-PG</td>\n",
              "      <td>1 Season</td>\n",
              "      <td>International TV Shows, Reality TV</td>\n",
              "      <td>Dessert wizard Adriano Zumbo looks for the nex...</td>\n",
              "    </tr>\n",
              "    <tr>\n",
              "      <th>7786</th>\n",
              "      <td>s7787</td>\n",
              "      <td>Movie</td>\n",
              "      <td>ZZ TOP: THAT LITTLE OL' BAND FROM TEXAS</td>\n",
              "      <td>Sam Dunn</td>\n",
              "      <td>NaN</td>\n",
              "      <td>United Kingdom, Canada, United States</td>\n",
              "      <td>March 1, 2020</td>\n",
              "      <td>2019</td>\n",
              "      <td>TV-MA</td>\n",
              "      <td>90 min</td>\n",
              "      <td>Documentaries, Music &amp; Musicals</td>\n",
              "      <td>This documentary delves into the mystique behi...</td>\n",
              "    </tr>\n",
              "  </tbody>\n",
              "</table>\n",
              "<p>7787 rows × 12 columns</p>\n",
              "</div>\n",
              "      <button class=\"colab-df-convert\" onclick=\"convertToInteractive('df-03fac064-6f24-4818-aa94-6bb095a5740f')\"\n",
              "              title=\"Convert this dataframe to an interactive table.\"\n",
              "              style=\"display:none;\">\n",
              "        \n",
              "  <svg xmlns=\"http://www.w3.org/2000/svg\" height=\"24px\"viewBox=\"0 0 24 24\"\n",
              "       width=\"24px\">\n",
              "    <path d=\"M0 0h24v24H0V0z\" fill=\"none\"/>\n",
              "    <path d=\"M18.56 5.44l.94 2.06.94-2.06 2.06-.94-2.06-.94-.94-2.06-.94 2.06-2.06.94zm-11 1L8.5 8.5l.94-2.06 2.06-.94-2.06-.94L8.5 2.5l-.94 2.06-2.06.94zm10 10l.94 2.06.94-2.06 2.06-.94-2.06-.94-.94-2.06-.94 2.06-2.06.94z\"/><path d=\"M17.41 7.96l-1.37-1.37c-.4-.4-.92-.59-1.43-.59-.52 0-1.04.2-1.43.59L10.3 9.45l-7.72 7.72c-.78.78-.78 2.05 0 2.83L4 21.41c.39.39.9.59 1.41.59.51 0 1.02-.2 1.41-.59l7.78-7.78 2.81-2.81c.8-.78.8-2.07 0-2.86zM5.41 20L4 18.59l7.72-7.72 1.47 1.35L5.41 20z\"/>\n",
              "  </svg>\n",
              "      </button>\n",
              "      \n",
              "  <style>\n",
              "    .colab-df-container {\n",
              "      display:flex;\n",
              "      flex-wrap:wrap;\n",
              "      gap: 12px;\n",
              "    }\n",
              "\n",
              "    .colab-df-convert {\n",
              "      background-color: #E8F0FE;\n",
              "      border: none;\n",
              "      border-radius: 50%;\n",
              "      cursor: pointer;\n",
              "      display: none;\n",
              "      fill: #1967D2;\n",
              "      height: 32px;\n",
              "      padding: 0 0 0 0;\n",
              "      width: 32px;\n",
              "    }\n",
              "\n",
              "    .colab-df-convert:hover {\n",
              "      background-color: #E2EBFA;\n",
              "      box-shadow: 0px 1px 2px rgba(60, 64, 67, 0.3), 0px 1px 3px 1px rgba(60, 64, 67, 0.15);\n",
              "      fill: #174EA6;\n",
              "    }\n",
              "\n",
              "    [theme=dark] .colab-df-convert {\n",
              "      background-color: #3B4455;\n",
              "      fill: #D2E3FC;\n",
              "    }\n",
              "\n",
              "    [theme=dark] .colab-df-convert:hover {\n",
              "      background-color: #434B5C;\n",
              "      box-shadow: 0px 1px 3px 1px rgba(0, 0, 0, 0.15);\n",
              "      filter: drop-shadow(0px 1px 2px rgba(0, 0, 0, 0.3));\n",
              "      fill: #FFFFFF;\n",
              "    }\n",
              "  </style>\n",
              "\n",
              "      <script>\n",
              "        const buttonEl =\n",
              "          document.querySelector('#df-03fac064-6f24-4818-aa94-6bb095a5740f button.colab-df-convert');\n",
              "        buttonEl.style.display =\n",
              "          google.colab.kernel.accessAllowed ? 'block' : 'none';\n",
              "\n",
              "        async function convertToInteractive(key) {\n",
              "          const element = document.querySelector('#df-03fac064-6f24-4818-aa94-6bb095a5740f');\n",
              "          const dataTable =\n",
              "            await google.colab.kernel.invokeFunction('convertToInteractive',\n",
              "                                                     [key], {});\n",
              "          if (!dataTable) return;\n",
              "\n",
              "          const docLinkHtml = 'Like what you see? Visit the ' +\n",
              "            '<a target=\"_blank\" href=https://colab.research.google.com/notebooks/data_table.ipynb>data table notebook</a>'\n",
              "            + ' to learn more about interactive tables.';\n",
              "          element.innerHTML = '';\n",
              "          dataTable['output_type'] = 'display_data';\n",
              "          await google.colab.output.renderOutput(dataTable, element);\n",
              "          const docLink = document.createElement('div');\n",
              "          docLink.innerHTML = docLinkHtml;\n",
              "          element.appendChild(docLink);\n",
              "        }\n",
              "      </script>\n",
              "    </div>\n",
              "  </div>\n",
              "  "
            ]
          },
          "metadata": {},
          "execution_count": 3
        }
      ],
      "source": [
        "# let's have first look on our dataset\n",
        "data_frame"
      ]
    },
    {
      "cell_type": "code",
      "execution_count": 4,
      "metadata": {
        "colab": {
          "base_uri": "https://localhost:8080/",
          "height": 0
        },
        "id": "VEXw4HQ5rVo4",
        "outputId": "63773fdc-e054-4c1a-b5c8-ab9bded5a9db"
      },
      "outputs": [
        {
          "output_type": "execute_result",
          "data": {
            "text/plain": [
              "  show_id     type  title           director  \\\n",
              "0      s1  TV Show     3%                NaN   \n",
              "1      s2    Movie   7:19  Jorge Michel Grau   \n",
              "2      s3    Movie  23:59       Gilbert Chan   \n",
              "3      s4    Movie      9        Shane Acker   \n",
              "4      s5    Movie     21     Robert Luketic   \n",
              "\n",
              "                                                cast        country  \\\n",
              "0  João Miguel, Bianca Comparato, Michel Gomes, R...         Brazil   \n",
              "1  Demián Bichir, Héctor Bonilla, Oscar Serrano, ...         Mexico   \n",
              "2  Tedd Chan, Stella Chung, Henley Hii, Lawrence ...      Singapore   \n",
              "3  Elijah Wood, John C. Reilly, Jennifer Connelly...  United States   \n",
              "4  Jim Sturgess, Kevin Spacey, Kate Bosworth, Aar...  United States   \n",
              "\n",
              "          date_added  release_year rating   duration  \\\n",
              "0    August 14, 2020          2020  TV-MA  4 Seasons   \n",
              "1  December 23, 2016          2016  TV-MA     93 min   \n",
              "2  December 20, 2018          2011      R     78 min   \n",
              "3  November 16, 2017          2009  PG-13     80 min   \n",
              "4    January 1, 2020          2008  PG-13    123 min   \n",
              "\n",
              "                                           listed_in  \\\n",
              "0  International TV Shows, TV Dramas, TV Sci-Fi &...   \n",
              "1                       Dramas, International Movies   \n",
              "2                Horror Movies, International Movies   \n",
              "3  Action & Adventure, Independent Movies, Sci-Fi...   \n",
              "4                                             Dramas   \n",
              "\n",
              "                                         description  \n",
              "0  In a future where the elite inhabit an island ...  \n",
              "1  After a devastating earthquake hits Mexico Cit...  \n",
              "2  When an army recruit is found dead, his fellow...  \n",
              "3  In a postapocalyptic world, rag-doll robots hi...  \n",
              "4  A brilliant group of students become card-coun...  "
            ],
            "text/html": [
              "\n",
              "  <div id=\"df-3d79a5db-edb0-406c-bffc-687abf6647fd\">\n",
              "    <div class=\"colab-df-container\">\n",
              "      <div>\n",
              "<style scoped>\n",
              "    .dataframe tbody tr th:only-of-type {\n",
              "        vertical-align: middle;\n",
              "    }\n",
              "\n",
              "    .dataframe tbody tr th {\n",
              "        vertical-align: top;\n",
              "    }\n",
              "\n",
              "    .dataframe thead th {\n",
              "        text-align: right;\n",
              "    }\n",
              "</style>\n",
              "<table border=\"1\" class=\"dataframe\">\n",
              "  <thead>\n",
              "    <tr style=\"text-align: right;\">\n",
              "      <th></th>\n",
              "      <th>show_id</th>\n",
              "      <th>type</th>\n",
              "      <th>title</th>\n",
              "      <th>director</th>\n",
              "      <th>cast</th>\n",
              "      <th>country</th>\n",
              "      <th>date_added</th>\n",
              "      <th>release_year</th>\n",
              "      <th>rating</th>\n",
              "      <th>duration</th>\n",
              "      <th>listed_in</th>\n",
              "      <th>description</th>\n",
              "    </tr>\n",
              "  </thead>\n",
              "  <tbody>\n",
              "    <tr>\n",
              "      <th>0</th>\n",
              "      <td>s1</td>\n",
              "      <td>TV Show</td>\n",
              "      <td>3%</td>\n",
              "      <td>NaN</td>\n",
              "      <td>João Miguel, Bianca Comparato, Michel Gomes, R...</td>\n",
              "      <td>Brazil</td>\n",
              "      <td>August 14, 2020</td>\n",
              "      <td>2020</td>\n",
              "      <td>TV-MA</td>\n",
              "      <td>4 Seasons</td>\n",
              "      <td>International TV Shows, TV Dramas, TV Sci-Fi &amp;...</td>\n",
              "      <td>In a future where the elite inhabit an island ...</td>\n",
              "    </tr>\n",
              "    <tr>\n",
              "      <th>1</th>\n",
              "      <td>s2</td>\n",
              "      <td>Movie</td>\n",
              "      <td>7:19</td>\n",
              "      <td>Jorge Michel Grau</td>\n",
              "      <td>Demián Bichir, Héctor Bonilla, Oscar Serrano, ...</td>\n",
              "      <td>Mexico</td>\n",
              "      <td>December 23, 2016</td>\n",
              "      <td>2016</td>\n",
              "      <td>TV-MA</td>\n",
              "      <td>93 min</td>\n",
              "      <td>Dramas, International Movies</td>\n",
              "      <td>After a devastating earthquake hits Mexico Cit...</td>\n",
              "    </tr>\n",
              "    <tr>\n",
              "      <th>2</th>\n",
              "      <td>s3</td>\n",
              "      <td>Movie</td>\n",
              "      <td>23:59</td>\n",
              "      <td>Gilbert Chan</td>\n",
              "      <td>Tedd Chan, Stella Chung, Henley Hii, Lawrence ...</td>\n",
              "      <td>Singapore</td>\n",
              "      <td>December 20, 2018</td>\n",
              "      <td>2011</td>\n",
              "      <td>R</td>\n",
              "      <td>78 min</td>\n",
              "      <td>Horror Movies, International Movies</td>\n",
              "      <td>When an army recruit is found dead, his fellow...</td>\n",
              "    </tr>\n",
              "    <tr>\n",
              "      <th>3</th>\n",
              "      <td>s4</td>\n",
              "      <td>Movie</td>\n",
              "      <td>9</td>\n",
              "      <td>Shane Acker</td>\n",
              "      <td>Elijah Wood, John C. Reilly, Jennifer Connelly...</td>\n",
              "      <td>United States</td>\n",
              "      <td>November 16, 2017</td>\n",
              "      <td>2009</td>\n",
              "      <td>PG-13</td>\n",
              "      <td>80 min</td>\n",
              "      <td>Action &amp; Adventure, Independent Movies, Sci-Fi...</td>\n",
              "      <td>In a postapocalyptic world, rag-doll robots hi...</td>\n",
              "    </tr>\n",
              "    <tr>\n",
              "      <th>4</th>\n",
              "      <td>s5</td>\n",
              "      <td>Movie</td>\n",
              "      <td>21</td>\n",
              "      <td>Robert Luketic</td>\n",
              "      <td>Jim Sturgess, Kevin Spacey, Kate Bosworth, Aar...</td>\n",
              "      <td>United States</td>\n",
              "      <td>January 1, 2020</td>\n",
              "      <td>2008</td>\n",
              "      <td>PG-13</td>\n",
              "      <td>123 min</td>\n",
              "      <td>Dramas</td>\n",
              "      <td>A brilliant group of students become card-coun...</td>\n",
              "    </tr>\n",
              "  </tbody>\n",
              "</table>\n",
              "</div>\n",
              "      <button class=\"colab-df-convert\" onclick=\"convertToInteractive('df-3d79a5db-edb0-406c-bffc-687abf6647fd')\"\n",
              "              title=\"Convert this dataframe to an interactive table.\"\n",
              "              style=\"display:none;\">\n",
              "        \n",
              "  <svg xmlns=\"http://www.w3.org/2000/svg\" height=\"24px\"viewBox=\"0 0 24 24\"\n",
              "       width=\"24px\">\n",
              "    <path d=\"M0 0h24v24H0V0z\" fill=\"none\"/>\n",
              "    <path d=\"M18.56 5.44l.94 2.06.94-2.06 2.06-.94-2.06-.94-.94-2.06-.94 2.06-2.06.94zm-11 1L8.5 8.5l.94-2.06 2.06-.94-2.06-.94L8.5 2.5l-.94 2.06-2.06.94zm10 10l.94 2.06.94-2.06 2.06-.94-2.06-.94-.94-2.06-.94 2.06-2.06.94z\"/><path d=\"M17.41 7.96l-1.37-1.37c-.4-.4-.92-.59-1.43-.59-.52 0-1.04.2-1.43.59L10.3 9.45l-7.72 7.72c-.78.78-.78 2.05 0 2.83L4 21.41c.39.39.9.59 1.41.59.51 0 1.02-.2 1.41-.59l7.78-7.78 2.81-2.81c.8-.78.8-2.07 0-2.86zM5.41 20L4 18.59l7.72-7.72 1.47 1.35L5.41 20z\"/>\n",
              "  </svg>\n",
              "      </button>\n",
              "      \n",
              "  <style>\n",
              "    .colab-df-container {\n",
              "      display:flex;\n",
              "      flex-wrap:wrap;\n",
              "      gap: 12px;\n",
              "    }\n",
              "\n",
              "    .colab-df-convert {\n",
              "      background-color: #E8F0FE;\n",
              "      border: none;\n",
              "      border-radius: 50%;\n",
              "      cursor: pointer;\n",
              "      display: none;\n",
              "      fill: #1967D2;\n",
              "      height: 32px;\n",
              "      padding: 0 0 0 0;\n",
              "      width: 32px;\n",
              "    }\n",
              "\n",
              "    .colab-df-convert:hover {\n",
              "      background-color: #E2EBFA;\n",
              "      box-shadow: 0px 1px 2px rgba(60, 64, 67, 0.3), 0px 1px 3px 1px rgba(60, 64, 67, 0.15);\n",
              "      fill: #174EA6;\n",
              "    }\n",
              "\n",
              "    [theme=dark] .colab-df-convert {\n",
              "      background-color: #3B4455;\n",
              "      fill: #D2E3FC;\n",
              "    }\n",
              "\n",
              "    [theme=dark] .colab-df-convert:hover {\n",
              "      background-color: #434B5C;\n",
              "      box-shadow: 0px 1px 3px 1px rgba(0, 0, 0, 0.15);\n",
              "      filter: drop-shadow(0px 1px 2px rgba(0, 0, 0, 0.3));\n",
              "      fill: #FFFFFF;\n",
              "    }\n",
              "  </style>\n",
              "\n",
              "      <script>\n",
              "        const buttonEl =\n",
              "          document.querySelector('#df-3d79a5db-edb0-406c-bffc-687abf6647fd button.colab-df-convert');\n",
              "        buttonEl.style.display =\n",
              "          google.colab.kernel.accessAllowed ? 'block' : 'none';\n",
              "\n",
              "        async function convertToInteractive(key) {\n",
              "          const element = document.querySelector('#df-3d79a5db-edb0-406c-bffc-687abf6647fd');\n",
              "          const dataTable =\n",
              "            await google.colab.kernel.invokeFunction('convertToInteractive',\n",
              "                                                     [key], {});\n",
              "          if (!dataTable) return;\n",
              "\n",
              "          const docLinkHtml = 'Like what you see? Visit the ' +\n",
              "            '<a target=\"_blank\" href=https://colab.research.google.com/notebooks/data_table.ipynb>data table notebook</a>'\n",
              "            + ' to learn more about interactive tables.';\n",
              "          element.innerHTML = '';\n",
              "          dataTable['output_type'] = 'display_data';\n",
              "          await google.colab.output.renderOutput(dataTable, element);\n",
              "          const docLink = document.createElement('div');\n",
              "          docLink.innerHTML = docLinkHtml;\n",
              "          element.appendChild(docLink);\n",
              "        }\n",
              "      </script>\n",
              "    </div>\n",
              "  </div>\n",
              "  "
            ]
          },
          "metadata": {},
          "execution_count": 4
        }
      ],
      "source": [
        "# first 5 rows of the dataset\n",
        "data_frame.head(5)"
      ]
    },
    {
      "cell_type": "code",
      "execution_count": 5,
      "metadata": {
        "colab": {
          "base_uri": "https://localhost:8080/",
          "height": 0
        },
        "id": "HzTfkYWergTO",
        "outputId": "1532d212-eb2f-4b16-dc45-a9f3fe04e2d5"
      },
      "outputs": [
        {
          "output_type": "execute_result",
          "data": {
            "text/plain": [
              "     show_id     type                                    title     director  \\\n",
              "7782   s7783    Movie                                     Zozo  Josef Fares   \n",
              "7783   s7784    Movie                                   Zubaan  Mozez Singh   \n",
              "7784   s7785    Movie                        Zulu Man in Japan          NaN   \n",
              "7785   s7786  TV Show                    Zumbo's Just Desserts          NaN   \n",
              "7786   s7787    Movie  ZZ TOP: THAT LITTLE OL' BAND FROM TEXAS     Sam Dunn   \n",
              "\n",
              "                                                   cast  \\\n",
              "7782  Imad Creidi, Antoinette Turk, Elias Gergi, Car...   \n",
              "7783  Vicky Kaushal, Sarah-Jane Dias, Raaghav Chanan...   \n",
              "7784                                            Nasty C   \n",
              "7785                         Adriano Zumbo, Rachel Khoo   \n",
              "7786                                                NaN   \n",
              "\n",
              "                                                country          date_added  \\\n",
              "7782  Sweden, Czech Republic, United Kingdom, Denmar...    October 19, 2020   \n",
              "7783                                              India       March 2, 2019   \n",
              "7784                                                NaN  September 25, 2020   \n",
              "7785                                          Australia    October 31, 2020   \n",
              "7786              United Kingdom, Canada, United States       March 1, 2020   \n",
              "\n",
              "      release_year rating  duration  \\\n",
              "7782          2005  TV-MA    99 min   \n",
              "7783          2015  TV-14   111 min   \n",
              "7784          2019  TV-MA    44 min   \n",
              "7785          2019  TV-PG  1 Season   \n",
              "7786          2019  TV-MA    90 min   \n",
              "\n",
              "                                              listed_in  \\\n",
              "7782                       Dramas, International Movies   \n",
              "7783     Dramas, International Movies, Music & Musicals   \n",
              "7784  Documentaries, International Movies, Music & M...   \n",
              "7785                 International TV Shows, Reality TV   \n",
              "7786                    Documentaries, Music & Musicals   \n",
              "\n",
              "                                            description  \n",
              "7782  When Lebanon's Civil War deprives Zozo of his ...  \n",
              "7783  A scrappy but poor boy worms his way into a ty...  \n",
              "7784  In this documentary, South African rapper Nast...  \n",
              "7785  Dessert wizard Adriano Zumbo looks for the nex...  \n",
              "7786  This documentary delves into the mystique behi...  "
            ],
            "text/html": [
              "\n",
              "  <div id=\"df-9ed3c67c-aa61-43e8-9809-ec271c0f7349\">\n",
              "    <div class=\"colab-df-container\">\n",
              "      <div>\n",
              "<style scoped>\n",
              "    .dataframe tbody tr th:only-of-type {\n",
              "        vertical-align: middle;\n",
              "    }\n",
              "\n",
              "    .dataframe tbody tr th {\n",
              "        vertical-align: top;\n",
              "    }\n",
              "\n",
              "    .dataframe thead th {\n",
              "        text-align: right;\n",
              "    }\n",
              "</style>\n",
              "<table border=\"1\" class=\"dataframe\">\n",
              "  <thead>\n",
              "    <tr style=\"text-align: right;\">\n",
              "      <th></th>\n",
              "      <th>show_id</th>\n",
              "      <th>type</th>\n",
              "      <th>title</th>\n",
              "      <th>director</th>\n",
              "      <th>cast</th>\n",
              "      <th>country</th>\n",
              "      <th>date_added</th>\n",
              "      <th>release_year</th>\n",
              "      <th>rating</th>\n",
              "      <th>duration</th>\n",
              "      <th>listed_in</th>\n",
              "      <th>description</th>\n",
              "    </tr>\n",
              "  </thead>\n",
              "  <tbody>\n",
              "    <tr>\n",
              "      <th>7782</th>\n",
              "      <td>s7783</td>\n",
              "      <td>Movie</td>\n",
              "      <td>Zozo</td>\n",
              "      <td>Josef Fares</td>\n",
              "      <td>Imad Creidi, Antoinette Turk, Elias Gergi, Car...</td>\n",
              "      <td>Sweden, Czech Republic, United Kingdom, Denmar...</td>\n",
              "      <td>October 19, 2020</td>\n",
              "      <td>2005</td>\n",
              "      <td>TV-MA</td>\n",
              "      <td>99 min</td>\n",
              "      <td>Dramas, International Movies</td>\n",
              "      <td>When Lebanon's Civil War deprives Zozo of his ...</td>\n",
              "    </tr>\n",
              "    <tr>\n",
              "      <th>7783</th>\n",
              "      <td>s7784</td>\n",
              "      <td>Movie</td>\n",
              "      <td>Zubaan</td>\n",
              "      <td>Mozez Singh</td>\n",
              "      <td>Vicky Kaushal, Sarah-Jane Dias, Raaghav Chanan...</td>\n",
              "      <td>India</td>\n",
              "      <td>March 2, 2019</td>\n",
              "      <td>2015</td>\n",
              "      <td>TV-14</td>\n",
              "      <td>111 min</td>\n",
              "      <td>Dramas, International Movies, Music &amp; Musicals</td>\n",
              "      <td>A scrappy but poor boy worms his way into a ty...</td>\n",
              "    </tr>\n",
              "    <tr>\n",
              "      <th>7784</th>\n",
              "      <td>s7785</td>\n",
              "      <td>Movie</td>\n",
              "      <td>Zulu Man in Japan</td>\n",
              "      <td>NaN</td>\n",
              "      <td>Nasty C</td>\n",
              "      <td>NaN</td>\n",
              "      <td>September 25, 2020</td>\n",
              "      <td>2019</td>\n",
              "      <td>TV-MA</td>\n",
              "      <td>44 min</td>\n",
              "      <td>Documentaries, International Movies, Music &amp; M...</td>\n",
              "      <td>In this documentary, South African rapper Nast...</td>\n",
              "    </tr>\n",
              "    <tr>\n",
              "      <th>7785</th>\n",
              "      <td>s7786</td>\n",
              "      <td>TV Show</td>\n",
              "      <td>Zumbo's Just Desserts</td>\n",
              "      <td>NaN</td>\n",
              "      <td>Adriano Zumbo, Rachel Khoo</td>\n",
              "      <td>Australia</td>\n",
              "      <td>October 31, 2020</td>\n",
              "      <td>2019</td>\n",
              "      <td>TV-PG</td>\n",
              "      <td>1 Season</td>\n",
              "      <td>International TV Shows, Reality TV</td>\n",
              "      <td>Dessert wizard Adriano Zumbo looks for the nex...</td>\n",
              "    </tr>\n",
              "    <tr>\n",
              "      <th>7786</th>\n",
              "      <td>s7787</td>\n",
              "      <td>Movie</td>\n",
              "      <td>ZZ TOP: THAT LITTLE OL' BAND FROM TEXAS</td>\n",
              "      <td>Sam Dunn</td>\n",
              "      <td>NaN</td>\n",
              "      <td>United Kingdom, Canada, United States</td>\n",
              "      <td>March 1, 2020</td>\n",
              "      <td>2019</td>\n",
              "      <td>TV-MA</td>\n",
              "      <td>90 min</td>\n",
              "      <td>Documentaries, Music &amp; Musicals</td>\n",
              "      <td>This documentary delves into the mystique behi...</td>\n",
              "    </tr>\n",
              "  </tbody>\n",
              "</table>\n",
              "</div>\n",
              "      <button class=\"colab-df-convert\" onclick=\"convertToInteractive('df-9ed3c67c-aa61-43e8-9809-ec271c0f7349')\"\n",
              "              title=\"Convert this dataframe to an interactive table.\"\n",
              "              style=\"display:none;\">\n",
              "        \n",
              "  <svg xmlns=\"http://www.w3.org/2000/svg\" height=\"24px\"viewBox=\"0 0 24 24\"\n",
              "       width=\"24px\">\n",
              "    <path d=\"M0 0h24v24H0V0z\" fill=\"none\"/>\n",
              "    <path d=\"M18.56 5.44l.94 2.06.94-2.06 2.06-.94-2.06-.94-.94-2.06-.94 2.06-2.06.94zm-11 1L8.5 8.5l.94-2.06 2.06-.94-2.06-.94L8.5 2.5l-.94 2.06-2.06.94zm10 10l.94 2.06.94-2.06 2.06-.94-2.06-.94-.94-2.06-.94 2.06-2.06.94z\"/><path d=\"M17.41 7.96l-1.37-1.37c-.4-.4-.92-.59-1.43-.59-.52 0-1.04.2-1.43.59L10.3 9.45l-7.72 7.72c-.78.78-.78 2.05 0 2.83L4 21.41c.39.39.9.59 1.41.59.51 0 1.02-.2 1.41-.59l7.78-7.78 2.81-2.81c.8-.78.8-2.07 0-2.86zM5.41 20L4 18.59l7.72-7.72 1.47 1.35L5.41 20z\"/>\n",
              "  </svg>\n",
              "      </button>\n",
              "      \n",
              "  <style>\n",
              "    .colab-df-container {\n",
              "      display:flex;\n",
              "      flex-wrap:wrap;\n",
              "      gap: 12px;\n",
              "    }\n",
              "\n",
              "    .colab-df-convert {\n",
              "      background-color: #E8F0FE;\n",
              "      border: none;\n",
              "      border-radius: 50%;\n",
              "      cursor: pointer;\n",
              "      display: none;\n",
              "      fill: #1967D2;\n",
              "      height: 32px;\n",
              "      padding: 0 0 0 0;\n",
              "      width: 32px;\n",
              "    }\n",
              "\n",
              "    .colab-df-convert:hover {\n",
              "      background-color: #E2EBFA;\n",
              "      box-shadow: 0px 1px 2px rgba(60, 64, 67, 0.3), 0px 1px 3px 1px rgba(60, 64, 67, 0.15);\n",
              "      fill: #174EA6;\n",
              "    }\n",
              "\n",
              "    [theme=dark] .colab-df-convert {\n",
              "      background-color: #3B4455;\n",
              "      fill: #D2E3FC;\n",
              "    }\n",
              "\n",
              "    [theme=dark] .colab-df-convert:hover {\n",
              "      background-color: #434B5C;\n",
              "      box-shadow: 0px 1px 3px 1px rgba(0, 0, 0, 0.15);\n",
              "      filter: drop-shadow(0px 1px 2px rgba(0, 0, 0, 0.3));\n",
              "      fill: #FFFFFF;\n",
              "    }\n",
              "  </style>\n",
              "\n",
              "      <script>\n",
              "        const buttonEl =\n",
              "          document.querySelector('#df-9ed3c67c-aa61-43e8-9809-ec271c0f7349 button.colab-df-convert');\n",
              "        buttonEl.style.display =\n",
              "          google.colab.kernel.accessAllowed ? 'block' : 'none';\n",
              "\n",
              "        async function convertToInteractive(key) {\n",
              "          const element = document.querySelector('#df-9ed3c67c-aa61-43e8-9809-ec271c0f7349');\n",
              "          const dataTable =\n",
              "            await google.colab.kernel.invokeFunction('convertToInteractive',\n",
              "                                                     [key], {});\n",
              "          if (!dataTable) return;\n",
              "\n",
              "          const docLinkHtml = 'Like what you see? Visit the ' +\n",
              "            '<a target=\"_blank\" href=https://colab.research.google.com/notebooks/data_table.ipynb>data table notebook</a>'\n",
              "            + ' to learn more about interactive tables.';\n",
              "          element.innerHTML = '';\n",
              "          dataTable['output_type'] = 'display_data';\n",
              "          await google.colab.output.renderOutput(dataTable, element);\n",
              "          const docLink = document.createElement('div');\n",
              "          docLink.innerHTML = docLinkHtml;\n",
              "          element.appendChild(docLink);\n",
              "        }\n",
              "      </script>\n",
              "    </div>\n",
              "  </div>\n",
              "  "
            ]
          },
          "metadata": {},
          "execution_count": 5
        }
      ],
      "source": [
        "# last 5 rows of the dataset\n",
        "data_frame.tail(5)"
      ]
    },
    {
      "cell_type": "markdown",
      "metadata": {
        "id": "1c_mO3pvrwad"
      },
      "source": [
        "# **Rows and Columns Count**"
      ]
    },
    {
      "cell_type": "code",
      "execution_count": 6,
      "metadata": {
        "colab": {
          "base_uri": "https://localhost:8080/"
        },
        "id": "GKOe6jearyx1",
        "outputId": "81a72a5b-6b3e-4a68-d638-06f09ada7fb9"
      },
      "outputs": [
        {
          "output_type": "execute_result",
          "data": {
            "text/plain": [
              "(7787, 12)"
            ]
          },
          "metadata": {},
          "execution_count": 6
        }
      ],
      "source": [
        "# shape of the dataset\n",
        "data_frame.shape"
      ]
    },
    {
      "cell_type": "markdown",
      "metadata": {
        "id": "AFpADAEar995"
      },
      "source": [
        "# **Dataset Information**"
      ]
    },
    {
      "cell_type": "code",
      "execution_count": 7,
      "metadata": {
        "colab": {
          "base_uri": "https://localhost:8080/"
        },
        "id": "U7kh9INFsJVq",
        "outputId": "f3281eda-cab8-4178-aa46-f44937949ecb"
      },
      "outputs": [
        {
          "output_type": "stream",
          "name": "stdout",
          "text": [
            "<class 'pandas.core.frame.DataFrame'>\n",
            "RangeIndex: 7787 entries, 0 to 7786\n",
            "Data columns (total 12 columns):\n",
            " #   Column        Non-Null Count  Dtype \n",
            "---  ------        --------------  ----- \n",
            " 0   show_id       7787 non-null   object\n",
            " 1   type          7787 non-null   object\n",
            " 2   title         7787 non-null   object\n",
            " 3   director      5398 non-null   object\n",
            " 4   cast          7069 non-null   object\n",
            " 5   country       7280 non-null   object\n",
            " 6   date_added    7777 non-null   object\n",
            " 7   release_year  7787 non-null   int64 \n",
            " 8   rating        7780 non-null   object\n",
            " 9   duration      7787 non-null   object\n",
            " 10  listed_in     7787 non-null   object\n",
            " 11  description   7787 non-null   object\n",
            "dtypes: int64(1), object(11)\n",
            "memory usage: 730.2+ KB\n"
          ]
        }
      ],
      "source": [
        "# dataset info\n",
        "data_frame.info()"
      ]
    },
    {
      "cell_type": "markdown",
      "metadata": {
        "id": "hi6zbe-0sZOW"
      },
      "source": [
        "# **Duplicate Values**"
      ]
    },
    {
      "cell_type": "code",
      "execution_count": 8,
      "metadata": {
        "colab": {
          "base_uri": "https://localhost:8080/"
        },
        "id": "JEzSEWs2sWQE",
        "outputId": "be4952f7-a615-45a5-cbf2-c8b7f6b32f21"
      },
      "outputs": [
        {
          "output_type": "execute_result",
          "data": {
            "text/plain": [
              "0"
            ]
          },
          "metadata": {},
          "execution_count": 8
        }
      ],
      "source": [
        "# checking for duplicate values\n",
        "data_frame.duplicated().sum()"
      ]
    },
    {
      "cell_type": "markdown",
      "metadata": {
        "id": "0NwwzILps4Z0"
      },
      "source": [
        "No Duplicate values are present in the dataset"
      ]
    },
    {
      "cell_type": "markdown",
      "metadata": {
        "id": "XWA99hOVtEAu"
      },
      "source": [
        "# **Missing Values / Null Values**"
      ]
    },
    {
      "cell_type": "code",
      "execution_count": 9,
      "metadata": {
        "colab": {
          "base_uri": "https://localhost:8080/"
        },
        "id": "BfwNR_13tUFg",
        "outputId": "185d219f-fdcb-4fea-ae61-1c7397af7a04"
      },
      "outputs": [
        {
          "output_type": "execute_result",
          "data": {
            "text/plain": [
              "show_id            0\n",
              "type               0\n",
              "title              0\n",
              "director        2389\n",
              "cast             718\n",
              "country          507\n",
              "date_added        10\n",
              "release_year       0\n",
              "rating             7\n",
              "duration           0\n",
              "listed_in          0\n",
              "description        0\n",
              "dtype: int64"
            ]
          },
          "metadata": {},
          "execution_count": 9
        }
      ],
      "source": [
        "# missing / null values counts\n",
        "data_frame.isnull().sum()"
      ]
    },
    {
      "cell_type": "code",
      "execution_count": 10,
      "metadata": {
        "colab": {
          "base_uri": "https://localhost:8080/",
          "height": 0
        },
        "id": "5rb8viT9treR",
        "outputId": "5229fa36-7cb8-40b3-c381-07c1fe5c4243"
      },
      "outputs": [
        {
          "output_type": "display_data",
          "data": {
            "text/plain": [
              "<Figure size 600x500 with 1 Axes>"
            ],
            "image/png": "[encoded data removed]"
          },
          "metadata": {}
        }
      ],
      "source": [
        "# visualising missing / null values using heatmap\n",
        "plt.figure(figsize=(6,5))\n",
        "sns.heatmap(data_frame.isnull(), cbar=False)\n",
        "plt.show()"
      ]
    },
    {
      "cell_type": "markdown",
      "metadata": {
        "id": "4PoKs1wBuEK6"
      },
      "source": [
        "# What did you know about your dataset?"
      ]
    },
    {
      "cell_type": "markdown",
      "metadata": {
        "id": "5qyGOjwquJRr"
      },
      "source": [
        "There are Null values in the following columns of the dataset\n",
        "- director = 2389\n",
        "\n",
        "- cast = 718\n",
        "\n",
        "- country = 507 \n",
        "\n",
        "- date_added = 10\n",
        "\n",
        "- rating = 7 "
      ]
    },
    {
      "cell_type": "markdown",
      "metadata": {
        "id": "qzlVMswwvTb4"
      },
      "source": [
        "# **Understanding Your Variables**"
      ]
    },
    {
      "cell_type": "code",
      "execution_count": 11,
      "metadata": {
        "colab": {
          "base_uri": "https://localhost:8080/"
        },
        "id": "hnx0w6aPvYDY",
        "outputId": "7b25828c-3e61-47ca-e1d0-93d3031a785a"
      },
      "outputs": [
        {
          "output_type": "execute_result",
          "data": {
            "text/plain": [
              "['show_id',\n",
              " 'type',\n",
              " 'title',\n",
              " 'director',\n",
              " 'cast',\n",
              " 'country',\n",
              " 'date_added',\n",
              " 'release_year',\n",
              " 'rating',\n",
              " 'duration',\n",
              " 'listed_in',\n",
              " 'description']"
            ]
          },
          "metadata": {},
          "execution_count": 11
        }
      ],
      "source": [
        "# dataset columns\n",
        "list(data_frame.columns)"
      ]
    },
    {
      "cell_type": "code",
      "execution_count": 12,
      "metadata": {
        "colab": {
          "base_uri": "https://localhost:8080/",
          "height": 0
        },
        "id": "0QB9-lxLvnyk",
        "outputId": "e35da33e-7dd5-446b-c460-f253bd62c378"
      },
      "outputs": [
        {
          "output_type": "execute_result",
          "data": {
            "text/plain": [
              "       show_id   type title                director                cast  \\\n",
              "count     7787   7787  7787                    5398                7069   \n",
              "unique    7787      2  7787                    4049                6831   \n",
              "top         s1  Movie    3%  Raúl Campos, Jan Suter  David Attenborough   \n",
              "freq         1   5377     1                      18                  18   \n",
              "mean       NaN    NaN   NaN                     NaN                 NaN   \n",
              "std        NaN    NaN   NaN                     NaN                 NaN   \n",
              "min        NaN    NaN   NaN                     NaN                 NaN   \n",
              "25%        NaN    NaN   NaN                     NaN                 NaN   \n",
              "50%        NaN    NaN   NaN                     NaN                 NaN   \n",
              "75%        NaN    NaN   NaN                     NaN                 NaN   \n",
              "max        NaN    NaN   NaN                     NaN                 NaN   \n",
              "\n",
              "              country       date_added  release_year rating  duration  \\\n",
              "count            7280             7777   7787.000000   7780      7787   \n",
              "unique            681             1565           NaN     14       216   \n",
              "top     United States  January 1, 2020           NaN  TV-MA  1 Season   \n",
              "freq             2555              118           NaN   2863      1608   \n",
              "mean              NaN              NaN   2013.932580    NaN       NaN   \n",
              "std               NaN              NaN      8.757395    NaN       NaN   \n",
              "min               NaN              NaN   1925.000000    NaN       NaN   \n",
              "25%               NaN              NaN   2013.000000    NaN       NaN   \n",
              "50%               NaN              NaN   2017.000000    NaN       NaN   \n",
              "75%               NaN              NaN   2018.000000    NaN       NaN   \n",
              "max               NaN              NaN   2021.000000    NaN       NaN   \n",
              "\n",
              "            listed_in                                        description  \n",
              "count            7787                                               7787  \n",
              "unique            492                                               7769  \n",
              "top     Documentaries  Multiple women report their husbands as missin...  \n",
              "freq              334                                                  3  \n",
              "mean              NaN                                                NaN  \n",
              "std               NaN                                                NaN  \n",
              "min               NaN                                                NaN  \n",
              "25%               NaN                                                NaN  \n",
              "50%               NaN                                                NaN  \n",
              "75%               NaN                                                NaN  \n",
              "max               NaN                                                NaN  "
            ],
            "text/html": [
              "\n",
              "  <div id=\"df-65865d08-8f79-4ab2-b860-1e1b4c4a14d8\">\n",
              "    <div class=\"colab-df-container\">\n",
              "      <div>\n",
              "<style scoped>\n",
              "    .dataframe tbody tr th:only-of-type {\n",
              "        vertical-align: middle;\n",
              "    }\n",
              "\n",
              "    .dataframe tbody tr th {\n",
              "        vertical-align: top;\n",
              "    }\n",
              "\n",
              "    .dataframe thead th {\n",
              "        text-align: right;\n",
              "    }\n",
              "</style>\n",
              "<table border=\"1\" class=\"dataframe\">\n",
              "  <thead>\n",
              "    <tr style=\"text-align: right;\">\n",
              "      <th></th>\n",
              "      <th>show_id</th>\n",
              "      <th>type</th>\n",
              "      <th>title</th>\n",
              "      <th>director</th>\n",
              "      <th>cast</th>\n",
              "      <th>country</th>\n",
              "      <th>date_added</th>\n",
              "      <th>release_year</th>\n",
              "      <th>rating</th>\n",
              "      <th>duration</th>\n",
              "      <th>listed_in</th>\n",
              "      <th>description</th>\n",
              "    </tr>\n",
              "  </thead>\n",
              "  <tbody>\n",
              "    <tr>\n",
              "      <th>count</th>\n",
              "      <td>7787</td>\n",
              "      <td>7787</td>\n",
              "      <td>7787</td>\n",
              "      <td>5398</td>\n",
              "      <td>7069</td>\n",
              "      <td>7280</td>\n",
              "      <td>7777</td>\n",
              "      <td>7787.000000</td>\n",
              "      <td>7780</td>\n",
              "      <td>7787</td>\n",
              "      <td>7787</td>\n",
              "      <td>7787</td>\n",
              "    </tr>\n",
              "    <tr>\n",
              "      <th>unique</th>\n",
              "      <td>7787</td>\n",
              "      <td>2</td>\n",
              "      <td>7787</td>\n",
              "      <td>4049</td>\n",
              "      <td>6831</td>\n",
              "      <td>681</td>\n",
              "      <td>1565</td>\n",
              "      <td>NaN</td>\n",
              "      <td>14</td>\n",
              "      <td>216</td>\n",
              "      <td>492</td>\n",
              "      <td>7769</td>\n",
              "    </tr>\n",
              "    <tr>\n",
              "      <th>top</th>\n",
              "      <td>s1</td>\n",
              "      <td>Movie</td>\n",
              "      <td>3%</td>\n",
              "      <td>Raúl Campos, Jan Suter</td>\n",
              "      <td>David Attenborough</td>\n",
              "      <td>United States</td>\n",
              "      <td>January 1, 2020</td>\n",
              "      <td>NaN</td>\n",
              "      <td>TV-MA</td>\n",
              "      <td>1 Season</td>\n",
              "      <td>Documentaries</td>\n",
              "      <td>Multiple women report their husbands as missin...</td>\n",
              "    </tr>\n",
              "    <tr>\n",
              "      <th>freq</th>\n",
              "      <td>1</td>\n",
              "      <td>5377</td>\n",
              "      <td>1</td>\n",
              "      <td>18</td>\n",
              "      <td>18</td>\n",
              "      <td>2555</td>\n",
              "      <td>118</td>\n",
              "      <td>NaN</td>\n",
              "      <td>2863</td>\n",
              "      <td>1608</td>\n",
              "      <td>334</td>\n",
              "      <td>3</td>\n",
              "    </tr>\n",
              "    <tr>\n",
              "      <th>mean</th>\n",
              "      <td>NaN</td>\n",
              "      <td>NaN</td>\n",
              "      <td>NaN</td>\n",
              "      <td>NaN</td>\n",
              "      <td>NaN</td>\n",
              "      <td>NaN</td>\n",
              "      <td>NaN</td>\n",
              "      <td>2013.932580</td>\n",
              "      <td>NaN</td>\n",
              "      <td>NaN</td>\n",
              "      <td>NaN</td>\n",
              "      <td>NaN</td>\n",
              "    </tr>\n",
              "    <tr>\n",
              "      <th>std</th>\n",
              "      <td>NaN</td>\n",
              "      <td>NaN</td>\n",
              "      <td>NaN</td>\n",
              "      <td>NaN</td>\n",
              "      <td>NaN</td>\n",
              "      <td>NaN</td>\n",
              "      <td>NaN</td>\n",
              "      <td>8.757395</td>\n",
              "      <td>NaN</td>\n",
              "      <td>NaN</td>\n",
              "      <td>NaN</td>\n",
              "      <td>NaN</td>\n",
              "    </tr>\n",
              "    <tr>\n",
              "      <th>min</th>\n",
              "      <td>NaN</td>\n",
              "      <td>NaN</td>\n",
              "      <td>NaN</td>\n",
              "      <td>NaN</td>\n",
              "      <td>NaN</td>\n",
              "      <td>NaN</td>\n",
              "      <td>NaN</td>\n",
              "      <td>1925.000000</td>\n",
              "      <td>NaN</td>\n",
              "      <td>NaN</td>\n",
              "      <td>NaN</td>\n",
              "      <td>NaN</td>\n",
              "    </tr>\n",
              "    <tr>\n",
              "      <th>25%</th>\n",
              "      <td>NaN</td>\n",
              "      <td>NaN</td>\n",
              "      <td>NaN</td>\n",
              "      <td>NaN</td>\n",
              "      <td>NaN</td>\n",
              "      <td>NaN</td>\n",
              "      <td>NaN</td>\n",
              "      <td>2013.000000</td>\n",
              "      <td>NaN</td>\n",
              "      <td>NaN</td>\n",
              "      <td>NaN</td>\n",
              "      <td>NaN</td>\n",
              "    </tr>\n",
              "    <tr>\n",
              "      <th>50%</th>\n",
              "      <td>NaN</td>\n",
              "      <td>NaN</td>\n",
              "      <td>NaN</td>\n",
              "      <td>NaN</td>\n",
              "      <td>NaN</td>\n",
              "      <td>NaN</td>\n",
              "      <td>NaN</td>\n",
              "      <td>2017.000000</td>\n",
              "      <td>NaN</td>\n",
              "      <td>NaN</td>\n",
              "      <td>NaN</td>\n",
              "      <td>NaN</td>\n",
              "    </tr>\n",
              "    <tr>\n",
              "      <th>75%</th>\n",
              "      <td>NaN</td>\n",
              "      <td>NaN</td>\n",
              "      <td>NaN</td>\n",
              "      <td>NaN</td>\n",
              "      <td>NaN</td>\n",
              "      <td>NaN</td>\n",
              "      <td>NaN</td>\n",
              "      <td>2018.000000</td>\n",
              "      <td>NaN</td>\n",
              "      <td>NaN</td>\n",
              "      <td>NaN</td>\n",
              "      <td>NaN</td>\n",
              "    </tr>\n",
              "    <tr>\n",
              "      <th>max</th>\n",
              "      <td>NaN</td>\n",
              "      <td>NaN</td>\n",
              "      <td>NaN</td>\n",
              "      <td>NaN</td>\n",
              "      <td>NaN</td>\n",
              "      <td>NaN</td>\n",
              "      <td>NaN</td>\n",
              "      <td>2021.000000</td>\n",
              "      <td>NaN</td>\n",
              "      <td>NaN</td>\n",
              "      <td>NaN</td>\n",
              "      <td>NaN</td>\n",
              "    </tr>\n",
              "  </tbody>\n",
              "</table>\n",
              "</div>\n",
              "      <button class=\"colab-df-convert\" onclick=\"convertToInteractive('df-65865d08-8f79-4ab2-b860-1e1b4c4a14d8')\"\n",
              "              title=\"Convert this dataframe to an interactive table.\"\n",
              "              style=\"display:none;\">\n",
              "        \n",
              "  <svg xmlns=\"http://www.w3.org/2000/svg\" height=\"24px\"viewBox=\"0 0 24 24\"\n",
              "       width=\"24px\">\n",
              "    <path d=\"M0 0h24v24H0V0z\" fill=\"none\"/>\n",
              "    <path d=\"M18.56 5.44l.94 2.06.94-2.06 2.06-.94-2.06-.94-.94-2.06-.94 2.06-2.06.94zm-11 1L8.5 8.5l.94-2.06 2.06-.94-2.06-.94L8.5 2.5l-.94 2.06-2.06.94zm10 10l.94 2.06.94-2.06 2.06-.94-2.06-.94-.94-2.06-.94 2.06-2.06.94z\"/><path d=\"M17.41 7.96l-1.37-1.37c-.4-.4-.92-.59-1.43-.59-.52 0-1.04.2-1.43.59L10.3 9.45l-7.72 7.72c-.78.78-.78 2.05 0 2.83L4 21.41c.39.39.9.59 1.41.59.51 0 1.02-.2 1.41-.59l7.78-7.78 2.81-2.81c.8-.78.8-2.07 0-2.86zM5.41 20L4 18.59l7.72-7.72 1.47 1.35L5.41 20z\"/>\n",
              "  </svg>\n",
              "      </button>\n",
              "      \n",
              "  <style>\n",
              "    .colab-df-container {\n",
              "      display:flex;\n",
              "      flex-wrap:wrap;\n",
              "      gap: 12px;\n",
              "    }\n",
              "\n",
              "    .colab-df-convert {\n",
              "      background-color: #E8F0FE;\n",
              "      border: none;\n",
              "      border-radius: 50%;\n",
              "      cursor: pointer;\n",
              "      display: none;\n",
              "      fill: #1967D2;\n",
              "      height: 32px;\n",
              "      padding: 0 0 0 0;\n",
              "      width: 32px;\n",
              "    }\n",
              "\n",
              "    .colab-df-convert:hover {\n",
              "      background-color: #E2EBFA;\n",
              "      box-shadow: 0px 1px 2px rgba(60, 64, 67, 0.3), 0px 1px 3px 1px rgba(60, 64, 67, 0.15);\n",
              "      fill: #174EA6;\n",
              "    }\n",
              "\n",
              "    [theme=dark] .colab-df-convert {\n",
              "      background-color: #3B4455;\n",
              "      fill: #D2E3FC;\n",
              "    }\n",
              "\n",
              "    [theme=dark] .colab-df-convert:hover {\n",
              "      background-color: #434B5C;\n",
              "      box-shadow: 0px 1px 3px 1px rgba(0, 0, 0, 0.15);\n",
              "      filter: drop-shadow(0px 1px 2px rgba(0, 0, 0, 0.3));\n",
              "      fill: #FFFFFF;\n",
              "    }\n",
              "  </style>\n",
              "\n",
              "      <script>\n",
              "        const buttonEl =\n",
              "          document.querySelector('#df-65865d08-8f79-4ab2-b860-1e1b4c4a14d8 button.colab-df-convert');\n",
              "        buttonEl.style.display =\n",
              "          google.colab.kernel.accessAllowed ? 'block' : 'none';\n",
              "\n",
              "        async function convertToInteractive(key) {\n",
              "          const element = document.querySelector('#df-65865d08-8f79-4ab2-b860-1e1b4c4a14d8');\n",
              "          const dataTable =\n",
              "            await google.colab.kernel.invokeFunction('convertToInteractive',\n",
              "                                                     [key], {});\n",
              "          if (!dataTable) return;\n",
              "\n",
              "          const docLinkHtml = 'Like what you see? Visit the ' +\n",
              "            '<a target=\"_blank\" href=https://colab.research.google.com/notebooks/data_table.ipynb>data table notebook</a>'\n",
              "            + ' to learn more about interactive tables.';\n",
              "          element.innerHTML = '';\n",
              "          dataTable['output_type'] = 'display_data';\n",
              "          await google.colab.output.renderOutput(dataTable, element);\n",
              "          const docLink = document.createElement('div');\n",
              "          docLink.innerHTML = docLinkHtml;\n",
              "          element.appendChild(docLink);\n",
              "        }\n",
              "      </script>\n",
              "    </div>\n",
              "  </div>\n",
              "  "
            ]
          },
          "metadata": {},
          "execution_count": 12
        }
      ],
      "source": [
        "#Dataset Describe\n",
        "data_frame.describe(include='all')"
      ]
    },
    {
      "cell_type": "code",
      "execution_count": 13,
      "metadata": {
        "colab": {
          "base_uri": "https://localhost:8080/"
        },
        "id": "QGyjb75Hv0rU",
        "outputId": "21d89931-e129-46f5-ab5b-9469a6f90ad9"
      },
      "outputs": [
        {
          "output_type": "stream",
          "name": "stdout",
          "text": [
            "Number of unique values in show_id is 7787\n",
            "Number of unique values in type is 2\n",
            "Number of unique values in title is 7787\n",
            "Number of unique values in director is 4049\n",
            "Number of unique values in cast is 6831\n",
            "Number of unique values in country is 681\n",
            "Number of unique values in date_added is 1565\n",
            "Number of unique values in release_year is 73\n",
            "Number of unique values in rating is 14\n",
            "Number of unique values in duration is 216\n",
            "Number of unique values in listed_in is 492\n",
            "Number of unique values in description is 7769\n"
          ]
        }
      ],
      "source": [
        "# check unique values for each variable\n",
        "for i in data_frame.columns.tolist():\n",
        "  print(\"Number of unique values in\", i, \"is\", data_frame[i].nunique())"
      ]
    },
    {
      "cell_type": "code",
      "execution_count": 14,
      "metadata": {
        "colab": {
          "base_uri": "https://localhost:8080/"
        },
        "id": "NGV5xhhxwC_e",
        "outputId": "8d69862e-4a4e-4c37-ca60-62967242f75e"
      },
      "outputs": [
        {
          "output_type": "execute_result",
          "data": {
            "text/plain": [
              "3631"
            ]
          },
          "metadata": {},
          "execution_count": 14
        }
      ],
      "source": [
        "# Total null values\n",
        "data_frame.isnull().sum().sum()"
      ]
    },
    {
      "cell_type": "code",
      "execution_count": 15,
      "metadata": {
        "id": "4tGNvtWDwYej"
      },
      "outputs": [],
      "source": [
        "# Handling the missing values\n",
        "data_frame[['director','cast','country']] = data_frame[['director','cast','country']].fillna('Unknown')\n",
        "data_frame['rating'] = data_frame['rating'].fillna(data_frame['rating'].mode()[0])\n",
        "data_frame.dropna(axis=0, inplace = True)"
      ]
    },
    {
      "cell_type": "code",
      "execution_count": 16,
      "metadata": {
        "colab": {
          "base_uri": "https://localhost:8080/"
        },
        "id": "oakLh7l5wqwL",
        "outputId": "7004535a-be69-49c8-e9a9-f27af3c132dd"
      },
      "outputs": [
        {
          "output_type": "execute_result",
          "data": {
            "text/plain": [
              "show_id         0\n",
              "type            0\n",
              "title           0\n",
              "director        0\n",
              "cast            0\n",
              "country         0\n",
              "date_added      0\n",
              "release_year    0\n",
              "rating          0\n",
              "duration        0\n",
              "listed_in       0\n",
              "description     0\n",
              "dtype: int64"
            ]
          },
          "metadata": {},
          "execution_count": 16
        }
      ],
      "source": [
        "# checking if there are any null values present\n",
        "data_frame.isnull().sum()"
      ]
    },
    {
      "cell_type": "code",
      "execution_count": 17,
      "metadata": {
        "colab": {
          "base_uri": "https://localhost:8080/"
        },
        "id": "dO5L5fzbw7Al",
        "outputId": "b90d4c54-42ff-4abc-c9fe-4cddd13f68b1"
      },
      "outputs": [
        {
          "output_type": "execute_result",
          "data": {
            "text/plain": [
              "(7777, 12)"
            ]
          },
          "metadata": {},
          "execution_count": 17
        }
      ],
      "source": [
        "# Dataset Rows & Columns count\n",
        "data_frame.shape"
      ]
    },
    {
      "cell_type": "markdown",
      "metadata": {
        "id": "aeSnCwsWxCMn"
      },
      "source": [
        "# **Feature engineering**"
      ]
    },
    {
      "cell_type": "code",
      "execution_count": 18,
      "metadata": {
        "colab": {
          "base_uri": "https://localhost:8080/"
        },
        "id": "kzdT33RZxB5L",
        "outputId": "63f820e9-5f29-48be-b94f-62adca7609e7"
      },
      "outputs": [
        {
          "output_type": "execute_result",
          "data": {
            "text/plain": [
              "United States                                                   2549\n",
              "India                                                            923\n",
              "Unknown                                                          506\n",
              "United Kingdom                                                   396\n",
              "Japan                                                            225\n",
              "                                                                ... \n",
              "Russia, United States, China                                       1\n",
              "Italy, Switzerland, France, Germany                                1\n",
              "United States, United Kingdom, Canada                              1\n",
              "United States, United Kingdom, Japan                               1\n",
              "Sweden, Czech Republic, United Kingdom, Denmark, Netherlands       1\n",
              "Name: country, Length: 682, dtype: int64"
            ]
          },
          "metadata": {},
          "execution_count": 18
        }
      ],
      "source": [
        "# Top countries for movies production\n",
        "data_frame.country.value_counts()"
      ]
    },
    {
      "cell_type": "code",
      "execution_count": 19,
      "metadata": {
        "colab": {
          "base_uri": "https://localhost:8080/"
        },
        "id": "dzniyVc2xf2c",
        "outputId": "9762987d-5583-40be-f73e-f26997d83210"
      },
      "outputs": [
        {
          "output_type": "execute_result",
          "data": {
            "text/plain": [
              "Documentaries                                                                      334\n",
              "Stand-Up Comedy                                                                    321\n",
              "Dramas, International Movies                                                       320\n",
              "Comedies, Dramas, International Movies                                             243\n",
              "Dramas, Independent Movies, International Movies                                   215\n",
              "                                                                                  ... \n",
              "Anime Series, Crime TV Shows, TV Thrillers                                           1\n",
              "Crime TV Shows, Romantic TV Shows, Spanish-Language TV Shows                         1\n",
              "Crime TV Shows, International TV Shows, Reality TV                                   1\n",
              "International Movies, Romantic Movies, Sci-Fi & Fantasy                              1\n",
              "International TV Shows, Spanish-Language TV Shows, Stand-Up Comedy & Talk Shows      1\n",
              "Name: listed_in, Length: 491, dtype: int64"
            ]
          },
          "metadata": {},
          "execution_count": 19
        }
      ],
      "source": [
        "# Genre of shows\n",
        "data_frame.listed_in.value_counts()"
      ]
    },
    {
      "cell_type": "code",
      "execution_count": 20,
      "metadata": {
        "id": "Im1yCSCHxqDu"
      },
      "outputs": [],
      "source": [
        "# Choosing the primary country and primary genre to simplify the analysis\n",
        "data_frame['country'] = data_frame['country'].apply(lambda x: x.split(',')[0])\n",
        "data_frame['listed_in'] = data_frame['listed_in'].apply(lambda x: x.split(',')[0])"
      ]
    },
    {
      "cell_type": "code",
      "execution_count": 21,
      "metadata": {
        "colab": {
          "base_uri": "https://localhost:8080/"
        },
        "id": "r5ArIQvWxyoZ",
        "outputId": "5d1dfe48-21f4-4456-dafb-6b288c573e11"
      },
      "outputs": [
        {
          "output_type": "execute_result",
          "data": {
            "text/plain": [
              "United States     2877\n",
              "India              956\n",
              "United Kingdom     576\n",
              "Unknown            506\n",
              "Canada             259\n",
              "                  ... \n",
              "Zimbabwe             1\n",
              "Namibia              1\n",
              "Soviet Union         1\n",
              "Iran                 1\n",
              "Somalia              1\n",
              "Name: country, Length: 82, dtype: int64"
            ]
          },
          "metadata": {},
          "execution_count": 21
        }
      ],
      "source": [
        "# contry in which a movie was produced\n",
        "data_frame.country.value_counts()"
      ]
    },
    {
      "cell_type": "code",
      "execution_count": 22,
      "metadata": {
        "colab": {
          "base_uri": "https://localhost:8080/"
        },
        "id": "ezZscAMmx_Jw",
        "outputId": "02cc337e-6a9f-496b-f51d-d0cd579652c5"
      },
      "outputs": [
        {
          "output_type": "execute_result",
          "data": {
            "text/plain": [
              "Dramas                          1384\n",
              "Comedies                        1074\n",
              "Documentaries                    751\n",
              "Action & Adventure               721\n",
              "International TV Shows           689\n",
              "Children & Family Movies         502\n",
              "Crime TV Shows                   369\n",
              "Kids' TV                         357\n",
              "Stand-Up Comedy                  321\n",
              "Horror Movies                    244\n",
              "British TV Shows                 231\n",
              "Docuseries                       193\n",
              "Anime Series                     147\n",
              "International Movies             114\n",
              "TV Comedies                      109\n",
              "Reality TV                       102\n",
              "Classic Movies                    77\n",
              "TV Dramas                         62\n",
              "Movies                            56\n",
              "Thrillers                         49\n",
              "TV Action & Adventure             36\n",
              "Stand-Up Comedy & Talk Shows      33\n",
              "Romantic TV Shows                 28\n",
              "Independent Movies                20\n",
              "Anime Features                    19\n",
              "Classic & Cult TV                 19\n",
              "Music & Musicals                  17\n",
              "TV Shows                          12\n",
              "Cult Movies                       12\n",
              "Sci-Fi & Fantasy                  11\n",
              "TV Horror                         10\n",
              "Romantic Movies                    3\n",
              "Spanish-Language TV Shows          2\n",
              "Sports Movies                      1\n",
              "TV Sci-Fi & Fantasy                1\n",
              "LGBTQ Movies                       1\n",
              "Name: listed_in, dtype: int64"
            ]
          },
          "metadata": {},
          "execution_count": 22
        }
      ],
      "source": [
        "# genre of shows\n",
        "data_frame.listed_in.value_counts()"
      ]
    },
    {
      "cell_type": "code",
      "execution_count": 23,
      "metadata": {
        "id": "_UsoMQMnyHrV"
      },
      "outputs": [],
      "source": [
        "# Splitting the duration column, and changing the datatype to integer\n",
        "data_frame['duration'] = data_frame['duration'].apply(lambda x: int(x.split()[0]))"
      ]
    },
    {
      "cell_type": "code",
      "execution_count": 24,
      "metadata": {
        "colab": {
          "base_uri": "https://localhost:8080/"
        },
        "id": "pwy8DoF_yReo",
        "outputId": "c72663d4-e106-41c9-b3a9-1481ee19f411"
      },
      "outputs": [
        {
          "output_type": "execute_result",
          "data": {
            "text/plain": [
              "1     1608\n",
              "2      378\n",
              "3      183\n",
              "4       86\n",
              "5       57\n",
              "6       30\n",
              "7       19\n",
              "8       18\n",
              "9        8\n",
              "10       5\n",
              "11       2\n",
              "12       2\n",
              "15       2\n",
              "13       1\n",
              "16       1\n",
              "Name: duration, dtype: int64"
            ]
          },
          "metadata": {},
          "execution_count": 24
        }
      ],
      "source": [
        "# Number of seasons for tv shows\n",
        "data_frame[data_frame['type']=='TV Show'].duration.value_counts()"
      ]
    },
    {
      "cell_type": "code",
      "execution_count": 25,
      "metadata": {
        "colab": {
          "base_uri": "https://localhost:8080/"
        },
        "id": "vqDRPcY7yYL6",
        "outputId": "b7beb8fa-c1f5-4ba6-a2e2-3ef9b38585d7"
      },
      "outputs": [
        {
          "output_type": "execute_result",
          "data": {
            "text/plain": [
              "array([ 93,  78,  80, 123,  95, 119, 118, 143, 103,  89,  91, 149, 144,\n",
              "       124,  87, 110, 128, 117, 100,  84,  99,  90, 102, 104, 105,  56,\n",
              "       125,  81,  97, 106, 107, 109,  44,  75, 101,  37, 113, 114, 130,\n",
              "        94, 140, 135,  82,  70, 121,  92, 164,  53,  83, 116,  86, 120,\n",
              "        96, 126, 129,  77, 137, 148,  28, 122, 176,  85,  22,  68, 111,\n",
              "        29, 142, 168,  21,  59,  20,  98, 108,  76,  26, 156,  30,  57,\n",
              "       150, 133, 115, 154, 127, 146, 136,  88, 131,  24, 112,  74,  63,\n",
              "        38,  25, 174,  60, 153, 158, 151, 162,  54,  51,  69,  64, 147,\n",
              "        42,  79,  40,  45, 172,  10, 163,  55,  72,  61,  71, 160, 171,\n",
              "        48, 139, 157,  15,  65, 134, 161,  62, 186,  49,  73,  58, 165,\n",
              "       166, 138, 159, 141, 132,  52,  67,  34,  66, 312, 180,  47, 155,\n",
              "        14, 177,  11,   9,  46, 145,   8,  12,  43,  50,  23, 185, 200,\n",
              "       169,  27, 170, 196,  33, 181, 204,  32,  35, 167, 179, 193,  13,\n",
              "       214,  17, 173, 192, 209, 187,  41, 182, 224, 233, 189, 152,  19,\n",
              "       208, 237,  31, 178, 230, 194, 228, 195,   3,  16,   5,  18, 205,\n",
              "       190,  36, 201, 253, 203, 191])"
            ]
          },
          "metadata": {},
          "execution_count": 25
        }
      ],
      "source": [
        "# Movie length in minutes\n",
        "data_frame[data_frame['type']=='Movie'].duration.unique()"
      ]
    },
    {
      "cell_type": "markdown",
      "metadata": {
        "id": "uMbPmtYAyvTZ"
      },
      "source": [
        "- Date_added column string to Datetime format"
      ]
    },
    {
      "cell_type": "code",
      "execution_count": 26,
      "metadata": {
        "id": "TPlqkfXxy7PU"
      },
      "outputs": [],
      "source": [
        "# Typecasting 'date_added' from string to datetime\n",
        "data_frame['date_added '] = pd.to_datetime(data_frame['date_added'])"
      ]
    },
    {
      "cell_type": "code",
      "execution_count": 27,
      "metadata": {
        "id": "jQcchCkzzo7x"
      },
      "outputs": [],
      "source": [
        "data_frame['date_added'] = pd.to_datetime(data_frame['date_added'], errors='coerce')"
      ]
    },
    {
      "cell_type": "code",
      "execution_count": 28,
      "metadata": {
        "colab": {
          "base_uri": "https://localhost:8080/"
        },
        "id": "PZRDyHYIz3Jz",
        "outputId": "71b71218-cb4b-48d3-af1b-ebcf963b73b1"
      },
      "outputs": [
        {
          "output_type": "execute_result",
          "data": {
            "text/plain": [
              "(Timestamp('2008-01-01 00:00:00'), Timestamp('2021-01-16 00:00:00'))"
            ]
          },
          "metadata": {},
          "execution_count": 28
        }
      ],
      "source": [
        "# first and last date on which a show was added on Netflix\n",
        "data_frame.date_added.min(),data_frame.date_added.max()"
      ]
    },
    {
      "cell_type": "code",
      "execution_count": 29,
      "metadata": {
        "id": "5jVTK0VX0BLI"
      },
      "outputs": [],
      "source": [
        "# Adding new attributes month and year of date added\n",
        "data_frame['month_added']= data_frame['date_added'].dt.month\n",
        "data_frame['year_added']= data_frame['date_added'].dt.year\n",
        "data_frame.drop('date_added', axis=1, inplace=True)"
      ]
    },
    {
      "cell_type": "code",
      "execution_count": 30,
      "metadata": {
        "colab": {
          "base_uri": "https://localhost:8080/"
        },
        "id": "MQH0zzQd0LCK",
        "outputId": "f199aa41-30bf-4aab-b693-e9d3ce21264f"
      },
      "outputs": [
        {
          "output_type": "execute_result",
          "data": {
            "text/plain": [
              "(7777, 14)"
            ]
          },
          "metadata": {},
          "execution_count": 30
        }
      ],
      "source": [
        "# Dataset Rows and Columns\n",
        "data_frame.shape"
      ]
    },
    {
      "cell_type": "code",
      "execution_count": 31,
      "metadata": {
        "colab": {
          "base_uri": "https://localhost:8080/"
        },
        "id": "c_yo-8A70RGI",
        "outputId": "0357abfe-a301-46f2-cf7d-0435536d11bc"
      },
      "outputs": [
        {
          "output_type": "stream",
          "name": "stdout",
          "text": [
            "<class 'pandas.core.frame.DataFrame'>\n",
            "Int64Index: 7777 entries, 0 to 7786\n",
            "Data columns (total 14 columns):\n",
            " #   Column        Non-Null Count  Dtype         \n",
            "---  ------        --------------  -----         \n",
            " 0   show_id       7777 non-null   object        \n",
            " 1   type          7777 non-null   object        \n",
            " 2   title         7777 non-null   object        \n",
            " 3   director      7777 non-null   object        \n",
            " 4   cast          7777 non-null   object        \n",
            " 5   country       7777 non-null   object        \n",
            " 6   release_year  7777 non-null   int64         \n",
            " 7   rating        7777 non-null   object        \n",
            " 8   duration      7777 non-null   int64         \n",
            " 9   listed_in     7777 non-null   object        \n",
            " 10  description   7777 non-null   object        \n",
            " 11  date_added    7777 non-null   datetime64[ns]\n",
            " 12  month_added   7777 non-null   int64         \n",
            " 13  year_added    7777 non-null   int64         \n",
            "dtypes: datetime64[ns](1), int64(4), object(9)\n",
            "memory usage: 911.4+ KB\n"
          ]
        }
      ],
      "source": [
        "# dataset Info\n",
        "data_frame.info()"
      ]
    },
    {
      "cell_type": "markdown",
      "metadata": {
        "id": "sHGc80Wq0e-z"
      },
      "source": [
        "# **Data Vizualization, Storytelling & Experimenting with charts : Understand the relationships between variables**"
      ]
    },
    {
      "cell_type": "markdown",
      "metadata": {
        "id": "1OJVCZAj0mbN"
      },
      "source": [
        "- **Chart 1**"
      ]
    },
    {
      "cell_type": "code",
      "execution_count": 32,
      "metadata": {
        "colab": {
          "base_uri": "https://localhost:8080/",
          "height": 0
        },
        "id": "I04WZH4N0jB6",
        "outputId": "c9290b55-273f-46ad-c9ac-c7cede5d5eed"
      },
      "outputs": [
        {
          "output_type": "execute_result",
          "data": {
            "text/plain": [
              "Text(0.5, 1.0, 'Movies and TV Shows in the dataset')"
            ]
          },
          "metadata": {},
          "execution_count": 32
        },
        {
          "output_type": "display_data",
          "data": {
            "text/plain": [
              "<Figure size 500x500 with 1 Axes>"
            ],
            "image/png": "[encoded data removed]"
          },
          "metadata": {}
        }
      ],
      "source": [
        "# plotting pie chart for getting number of movies and tv shows in the dataset\n",
        "plt.figure(figsize=(5,5))\n",
        "data_frame.type.value_counts().plot(kind='pie',autopct='%1.2f%%')\n",
        "plt.ylabel('')\n",
        "plt.title('Movies and TV Shows in the dataset')"
      ]
    },
    {
      "cell_type": "markdown",
      "metadata": {
        "id": "RqNHLpks07Ca"
      },
      "source": [
        "-  A pie chart, sometimes called a circle chart, is a way of summarizing a set of nominal data or displaying the different values of a given variable\n",
        "\n",
        "- In this pie plot there are more movies 69.14% than TV shows 30.86% in the dataset."
      ]
    },
    {
      "cell_type": "markdown",
      "metadata": {
        "id": "XMh4yxZp1Nct"
      },
      "source": [
        " **Chart 2**"
      ]
    },
    {
      "cell_type": "code",
      "execution_count": 33,
      "metadata": {
        "colab": {
          "base_uri": "https://localhost:8080/",
          "height": 0
        },
        "id": "5XSIfows1FGP",
        "outputId": "9a14ae61-03be-4109-aff3-a426c749b0b3"
      },
      "outputs": [
        {
          "output_type": "execute_result",
          "data": {
            "text/plain": [
              "Text(0.5, 1.0, 'Top 10 directors by number of shows directed')"
            ]
          },
          "metadata": {},
          "execution_count": 33
        },
        {
          "output_type": "display_data",
          "data": {
            "text/plain": [
              "<Figure size 1000x500 with 1 Axes>"
            ],
            "image/png": "[encoded data removed]"
          },
          "metadata": {}
        }
      ],
      "source": [
        "# Top 10 directors in the dataset\n",
        "plt.figure(figsize=(10,5))\n",
        "data_frame[~(data_frame['director']=='Unknown')].director.value_counts().nlargest(10).plot(kind='bar')\n",
        "plt.title('Top 10 directors by number of shows directed')"
      ]
    },
    {
      "cell_type": "markdown",
      "metadata": {
        "id": "LV1ontUa1dgl"
      },
      "source": [
        "-  A barplot is one of the most common types of graphic. It shows the relationship between a numeric and a categoric variable. Each entity of the categoric variable is represented as a bar. The size of the bar represents its numeric value.\n",
        "\n",
        "- In this Bar plot there are showing Top 10 directors by number of shows directed.\n",
        "\n",
        "- Raul Campos jan Suter are the top 1 director.\n",
        "\n",
        "- Rayan Polito are top 10 director"
      ]
    },
    {
      "cell_type": "markdown",
      "metadata": {
        "id": "B_FJqkB54yD7"
      },
      "source": [
        "**Chart 3**"
      ]
    },
    {
      "cell_type": "code",
      "execution_count": 34,
      "metadata": {
        "colab": {
          "base_uri": "https://localhost:8080/",
          "height": 0
        },
        "id": "CUpuOxqu4xIm",
        "outputId": "db3ba5cf-ba70-4223-b894-d6f568f94180"
      },
      "outputs": [
        {
          "output_type": "execute_result",
          "data": {
            "text/plain": [
              "Text(0.5, 1.0, ' Top 10 countries with the highest number of shows')"
            ]
          },
          "metadata": {},
          "execution_count": 34
        },
        {
          "output_type": "display_data",
          "data": {
            "text/plain": [
              "<Figure size 1000x500 with 1 Axes>"
            ],
            "image/png": "[encoded data removed]"
          },
          "metadata": {}
        }
      ],
      "source": [
        "# Top 10 countries with the highest number movies / TV shows in the dataset\n",
        "plt.figure(figsize=(10,5))\n",
        "data_frame[~(data_frame['country']=='Unknown')].country.value_counts().nlargest(10).plot(kind='bar')\n",
        "plt.title(' Top 10 countries with the highest number of shows')"
      ]
    },
    {
      "cell_type": "markdown",
      "metadata": {
        "id": "Mgz72DyL5InG"
      },
      "source": [
        "- A bar plot shows catergorical data as rectangular bars with the height of bars proportional to the value they represent.\n",
        "\n",
        "- united States are the top one country of highest number movies / TV shows in the dataset.\n",
        "\n",
        "- Australia are the top 10 highest number movies / TV shows in the dataset"
      ]
    },
    {
      "cell_type": "markdown",
      "metadata": {
        "id": "Riyxwjnx5W7w"
      },
      "source": [
        "**Chart 4**"
      ]
    },
    {
      "cell_type": "code",
      "execution_count": 35,
      "metadata": {
        "colab": {
          "base_uri": "https://localhost:8080/",
          "height": 0
        },
        "id": "2e3Y7i655VNW",
        "outputId": "a5e27057-ad38-421a-97fe-11f210f54e23"
      },
      "outputs": [
        {
          "output_type": "display_data",
          "data": {
            "text/plain": [
              "<Figure size 1000x500 with 1 Axes>"
            ],
            "image/png": "[encoded data removed]"
          },
          "metadata": {}
        }
      ],
      "source": [
        "# Length distribution of movies\n",
        "movie = data_frame[data_frame['type']=='Movie']\n",
        "\n",
        "plt.figure(figsize=(10, 5))\n",
        "\n",
        "sns.distplot(movie['duration'], bins=30,color='Blue').set(ylabel=None)\n",
        "\n",
        "plt.title('Length distribution of movies', fontsize=16,fontweight=\"bold\")\n",
        "plt.xlabel('Duration', fontsize=14)\n",
        "plt.show()"
      ]
    },
    {
      "cell_type": "markdown",
      "metadata": {
        "id": "3BtfB8ty6Egb"
      },
      "source": [
        "**Chart 5**"
      ]
    },
    {
      "cell_type": "code",
      "execution_count": 36,
      "metadata": {
        "colab": {
          "base_uri": "https://localhost:8080/",
          "height": 0
        },
        "id": "Oqn_ibDZ6Dvg",
        "outputId": "ec49b8d4-5bd2-4cb7-8b29-dae9cc528457"
      },
      "outputs": [
        {
          "output_type": "execute_result",
          "data": {
            "text/plain": [
              "Text(0.5, 1.0, 'Number of shows on Netflix for different age groups')"
            ]
          },
          "metadata": {},
          "execution_count": 36
        },
        {
          "output_type": "display_data",
          "data": {
            "text/plain": [
              "<Figure size 1000x500 with 1 Axes>"
            ],
            "image/png": "[encoded data removed]"
          },
          "metadata": {}
        }
      ],
      "source": [
        "# Age ratings for shows in the dataset\n",
        "plt.figure(figsize=(10,5))\n",
        "sns.countplot(x='rating',data=data_frame)\n",
        "plt.title('Number of shows on Netflix for different age groups')"
      ]
    },
    {
      "cell_type": "markdown",
      "metadata": {
        "id": "xj5gMo-O6vAT"
      },
      "source": [
        "- countplot() method is used to Show the counts of observations in each categorical bin using bars.\n",
        "- TV-MA has the highest rating\n",
        "- TV-14 has the second higest rating"
      ]
    },
    {
      "cell_type": "markdown",
      "metadata": {
        "id": "mz3UFXDm7t89"
      },
      "source": [
        "# **Date Preprocessing**"
      ]
    },
    {
      "cell_type": "code",
      "execution_count": 37,
      "metadata": {
        "id": "AZi9ZtdF7tcr"
      },
      "outputs": [],
      "source": [
        "# Using the original dataset for clustering since it doesnot require handling missing values\n",
        "Dataset= data_frame.copy()"
      ]
    },
    {
      "cell_type": "code",
      "execution_count": 38,
      "metadata": {
        "id": "WAwULEPB76s9"
      },
      "outputs": [],
      "source": [
        "Dataset.fillna('',inplace=True)\n",
        "\n",
        "# Combining all the clustering attributes into a single column\n",
        "\n",
        "Dataset['clustering'] = (Dataset['director'] + ' ' + \n",
        "                                Dataset['cast'] +' ' + \n",
        "                                Dataset['country'] +' ' + \n",
        "                                Dataset['listed_in'] +' ' + \n",
        "                                Dataset['description'])"
      ]
    },
    {
      "cell_type": "code",
      "execution_count": 39,
      "metadata": {
        "colab": {
          "base_uri": "https://localhost:8080/",
          "height": 53
        },
        "id": "6dS17tmG8AO8",
        "outputId": "a48cdaaf-35c9-46e6-f155-545e9a965c32"
      },
      "outputs": [
        {
          "output_type": "execute_result",
          "data": {
            "text/plain": [
              "\"Rajkumar Hirani Aamir Khan, Kareena Kapoor, Madhavan, Sharman Joshi, Omi Vaidya, Boman Irani, Mona Singh, Javed Jaffrey India Comedies While attending one of India's premier colleges, three miserable engineering students and best friends struggle to beat the school's draconian system.\""
            ],
            "application/vnd.google.colaboratory.intrinsic+json": {
              "type": "string"
            }
          },
          "metadata": {},
          "execution_count": 39
        }
      ],
      "source": [
        "#Selecting the 100 number of clusters for the dataset\n",
        "Dataset['clustering'][100]"
      ]
    },
    {
      "cell_type": "markdown",
      "metadata": {
        "id": "dkw7UN378S5m"
      },
      "source": [
        "- **Removing Punctuation**"
      ]
    },
    {
      "cell_type": "code",
      "execution_count": 40,
      "metadata": {
        "id": "PjId_urP8ZVC"
      },
      "outputs": [],
      "source": [
        "#Function to remove punctuations\n",
        "def remove_punctuation(text):\n",
        "  '''a function for rmoving punctuation'''\n",
        "  translator= str.maketrans('','',string.punctuation)\n",
        "  #Return the text stripped of punctuation marks\n",
        "  return text.translate(translator)"
      ]
    },
    {
      "cell_type": "code",
      "execution_count": 41,
      "metadata": {
        "id": "vAAxuKZh8ctx"
      },
      "outputs": [],
      "source": [
        "# Removing punctuation marks\n",
        "Dataset['clustering']= Dataset['clustering'].apply(remove_punctuation)"
      ]
    },
    {
      "cell_type": "code",
      "execution_count": 42,
      "metadata": {
        "colab": {
          "base_uri": "https://localhost:8080/",
          "height": 53
        },
        "id": "Wkc2lqof8pil",
        "outputId": "d49975ea-0e78-4316-c431-c385b335be1a"
      },
      "outputs": [
        {
          "output_type": "execute_result",
          "data": {
            "text/plain": [
              "'Rajkumar Hirani Aamir Khan Kareena Kapoor Madhavan Sharman Joshi Omi Vaidya Boman Irani Mona Singh Javed Jaffrey India Comedies While attending one of Indias premier colleges three miserable engineering students and best friends struggle to beat the schools draconian system'"
            ],
            "application/vnd.google.colaboratory.intrinsic+json": {
              "type": "string"
            }
          },
          "metadata": {},
          "execution_count": 42
        }
      ],
      "source": [
        "# Select the 100 number of clusters for the dataset \n",
        "Dataset['clustering'][100]"
      ]
    },
    {
      "cell_type": "markdown",
      "metadata": {
        "id": "HiRa2wkc8wYg"
      },
      "source": [
        "- **Removing Non-ASCII Characters**"
      ]
    },
    {
      "cell_type": "code",
      "execution_count": 43,
      "metadata": {
        "id": "Pd-RKXQZ8qPQ"
      },
      "outputs": [],
      "source": [
        "#Function to remove non-ascii characters\n",
        "def remove_non_ascii(words):\n",
        "  \"\"\"function to remove non-ASCII characters\"\"\"\n",
        "  new_words= []\n",
        "  for word in words:\n",
        "    new_word= unicodedata.normalize('NFKD', word).encode('ascii','ignore').decode('utf-8','ignore')\n",
        "    new_words.append(new_word)\n",
        "  return new_words"
      ]
    },
    {
      "cell_type": "code",
      "execution_count": 44,
      "metadata": {
        "id": "wb31RbG283Fy"
      },
      "outputs": [],
      "source": [
        "#Removing non-ascii characters\n",
        "Dataset['clustering']= remove_non_ascii(Dataset['clustering'])"
      ]
    },
    {
      "cell_type": "code",
      "execution_count": 45,
      "metadata": {
        "colab": {
          "base_uri": "https://localhost:8080/",
          "height": 53
        },
        "id": "idYV9Ryg860a",
        "outputId": "165972e3-6c90-402f-d1ee-f212e7308591"
      },
      "outputs": [
        {
          "output_type": "execute_result",
          "data": {
            "text/plain": [
              "'Rajkumar Hirani Aamir Khan Kareena Kapoor Madhavan Sharman Joshi Omi Vaidya Boman Irani Mona Singh Javed Jaffrey India Comedies While attending one of Indias premier colleges three miserable engineering students and best friends struggle to beat the schools draconian system'"
            ],
            "application/vnd.google.colaboratory.intrinsic+json": {
              "type": "string"
            }
          },
          "metadata": {},
          "execution_count": 45
        }
      ],
      "source": [
        "#Selectiong the 100 no of clusters for the dataset\n",
        "Dataset['clustering'][100]"
      ]
    },
    {
      "cell_type": "markdown",
      "metadata": {
        "id": "70ksNOlV8_P1"
      },
      "source": [
        "- **Removing Stop Words**"
      ]
    },
    {
      "cell_type": "code",
      "execution_count": 46,
      "metadata": {
        "colab": {
          "base_uri": "https://localhost:8080/"
        },
        "id": "g555pxal8-pv",
        "outputId": "44476695-c3bd-4baa-c37f-31ff3e17bd2f"
      },
      "outputs": [
        {
          "output_type": "execute_result",
          "data": {
            "text/plain": [
              "array(['i', 'me', 'my', 'myself', 'we', 'our', 'ours', 'ourselves', 'you',\n",
              "       \"you're\", \"you've\", \"you'll\", \"you'd\", 'your', 'yours', 'yourself',\n",
              "       'yourselves', 'he', 'him', 'his', 'himself', 'she', \"she's\", 'her',\n",
              "       'hers', 'herself', 'it', \"it's\", 'its', 'itself', 'they', 'them',\n",
              "       'their', 'theirs', 'themselves', 'what', 'which', 'who', 'whom',\n",
              "       'this', 'that', \"that'll\", 'these', 'those', 'am', 'is', 'are',\n",
              "       'was', 'were', 'be', 'been', 'being', 'have', 'has', 'had',\n",
              "       'having', 'do', 'does', 'did', 'doing', 'a', 'an', 'the', 'and',\n",
              "       'but', 'if', 'or', 'because', 'as', 'until', 'while', 'of', 'at',\n",
              "       'by', 'for', 'with', 'about', 'against', 'between', 'into',\n",
              "       'through', 'during', 'before', 'after', 'above', 'below', 'to',\n",
              "       'from', 'up', 'down', 'in', 'out', 'on', 'off', 'over', 'under',\n",
              "       'again', 'further', 'then', 'once', 'here', 'there', 'when',\n",
              "       'where', 'why', 'how', 'all', 'any', 'both', 'each', 'few', 'more',\n",
              "       'most', 'other', 'some', 'such', 'no', 'nor', 'not', 'only', 'own',\n",
              "       'same', 'so', 'than', 'too', 'very', 's', 't', 'can', 'will',\n",
              "       'just', 'don', \"don't\", 'should', \"should've\", 'now', 'd', 'll',\n",
              "       'm', 'o', 're', 've', 'y', 'ain', 'aren', \"aren't\", 'couldn',\n",
              "       \"couldn't\", 'didn', \"didn't\", 'doesn', \"doesn't\", 'hadn', \"hadn't\",\n",
              "       'hasn', \"hasn't\", 'haven', \"haven't\", 'isn', \"isn't\", 'ma',\n",
              "       'mightn', \"mightn't\", 'mustn', \"mustn't\", 'needn', \"needn't\",\n",
              "       'shan', \"shan't\", 'shouldn', \"shouldn't\", 'wasn', \"wasn't\",\n",
              "       'weren', \"weren't\", 'won', \"won't\", 'wouldn', \"wouldn't\"],\n",
              "      dtype='<U10')"
            ]
          },
          "metadata": {},
          "execution_count": 46
        }
      ],
      "source": [
        "#Extracting the stopwords from nltk library\n",
        "import nltk\n",
        "from nltk.corpus import stopwords\n",
        "sentences= stopwords.words('english')\n",
        "#Displaying the stopwords\n",
        "np.array(sentences)"
      ]
    },
    {
      "cell_type": "code",
      "execution_count": 47,
      "metadata": {
        "id": "xC-73Fzd9Hxp"
      },
      "outputs": [],
      "source": [
        "#Function to remove stopwords\n",
        "def remove_stopwords(text):\n",
        "  '''a function for removing the stopword'''\n",
        "  #Removing the stopwords and lowercasing the selected words\n",
        "  text= [word.lower() for word in text.split() if word.lower() not in sentences]\n",
        "  #Joining the list of words with space separator\n",
        "  return \" \".join(text)"
      ]
    },
    {
      "cell_type": "code",
      "execution_count": 48,
      "metadata": {
        "id": "KOi48mNH9LPv"
      },
      "outputs": [],
      "source": [
        "#Removing stopwords\n",
        "Dataset['clustering']= Dataset['clustering'].apply(remove_stopwords)"
      ]
    },
    {
      "cell_type": "code",
      "execution_count": 49,
      "metadata": {
        "colab": {
          "base_uri": "https://localhost:8080/",
          "height": 53
        },
        "id": "5citvPIH9MAJ",
        "outputId": "342a16f2-4050-4187-91e8-2b88eb8b7c60"
      },
      "outputs": [
        {
          "output_type": "execute_result",
          "data": {
            "text/plain": [
              "'rajkumar hirani aamir khan kareena kapoor madhavan sharman joshi omi vaidya boman irani mona singh javed jaffrey india comedies attending one indias premier colleges three miserable engineering students best friends struggle beat schools draconian system'"
            ],
            "application/vnd.google.colaboratory.intrinsic+json": {
              "type": "string"
            }
          },
          "metadata": {},
          "execution_count": 49
        }
      ],
      "source": [
        "#Selecting the 100 no of clusters for the dataset\n",
        "Dataset['clustering'][100]"
      ]
    },
    {
      "cell_type": "markdown",
      "metadata": {
        "id": "CCrupJ0KKkQO"
      },
      "source": [
        "- **Lemmatization**"
      ]
    },
    {
      "cell_type": "code",
      "execution_count": 50,
      "metadata": {
        "id": "Xkpoy1Pm9OM0"
      },
      "outputs": [],
      "source": [
        "#Function to lemmatize thw corpus\n",
        "def lemmatize_verbs(words):\n",
        "  \"\"\"Lemmatize verbs in list of tokenized words\"\"\"\n",
        "  lemmatizer= WordNetLemmatizer()\n",
        "  lemmas=[]\n",
        "  for word in words:\n",
        "    lemma= lemmatizer.lemmatize(word, pos='v')\n",
        "    lemmas.append(lemma)\n",
        "  return lemmas"
      ]
    },
    {
      "cell_type": "code",
      "execution_count": 51,
      "metadata": {
        "id": "-Y2a9BcJKvGh"
      },
      "outputs": [],
      "source": [
        "#Lemmatization\n",
        "Dataset['clustering']= lemmatize_verbs(Dataset['clustering'])\n"
      ]
    },
    {
      "cell_type": "code",
      "execution_count": 52,
      "metadata": {
        "colab": {
          "base_uri": "https://localhost:8080/"
        },
        "id": "rrZ-lISUKwM2",
        "outputId": "720cd0c1-0d5d-4196-d4b0-10dfacb75e25"
      },
      "outputs": [
        {
          "output_type": "stream",
          "name": "stdout",
          "text": [
            "rajkumar hirani aamir khan kareena kapoor madhavan sharman joshi omi vaidya boman irani mona singh javed jaffrey india comedies attending one indias premier colleges three miserable engineering students best friends struggle beat schools draconian system\n"
          ]
        }
      ],
      "source": [
        "#Selecting the 100 no of clusters for the dataset\n",
        "print(Dataset['clustering'][100])"
      ]
    },
    {
      "cell_type": "markdown",
      "metadata": {
        "id": "lie0zauvK4xi"
      },
      "source": [
        "- **Tokenization**"
      ]
    },
    {
      "cell_type": "code",
      "execution_count": 53,
      "metadata": {
        "id": "BZw8jdF3K3-U"
      },
      "outputs": [],
      "source": [
        "#Creating a reference variable for class tokenizer\n",
        "tokenizer= TweetTokenizer()"
      ]
    },
    {
      "cell_type": "code",
      "execution_count": 54,
      "metadata": {
        "id": "ot1iyqyjK94U"
      },
      "outputs": [],
      "source": [
        "#Apllying tokenization\n",
        "Dataset['clustering']=Dataset['clustering'].apply(lambda x: tokenizer.tokenize(x))"
      ]
    },
    {
      "cell_type": "code",
      "execution_count": 55,
      "metadata": {
        "colab": {
          "base_uri": "https://localhost:8080/"
        },
        "id": "XVJcJOCQLBsm",
        "outputId": "51319f26-fc9b-4d74-df06-0ee0d24ab317"
      },
      "outputs": [
        {
          "output_type": "execute_result",
          "data": {
            "text/plain": [
              "['rajkumar',\n",
              " 'hirani',\n",
              " 'aamir',\n",
              " 'khan',\n",
              " 'kareena',\n",
              " 'kapoor',\n",
              " 'madhavan',\n",
              " 'sharman',\n",
              " 'joshi',\n",
              " 'omi',\n",
              " 'vaidya',\n",
              " 'boman',\n",
              " 'irani',\n",
              " 'mona',\n",
              " 'singh',\n",
              " 'javed',\n",
              " 'jaffrey',\n",
              " 'india',\n",
              " 'comedies',\n",
              " 'attending',\n",
              " 'one',\n",
              " 'indias',\n",
              " 'premier',\n",
              " 'colleges',\n",
              " 'three',\n",
              " 'miserable',\n",
              " 'engineering',\n",
              " 'students',\n",
              " 'best',\n",
              " 'friends',\n",
              " 'struggle',\n",
              " 'beat',\n",
              " 'schools',\n",
              " 'draconian',\n",
              " 'system']"
            ]
          },
          "metadata": {},
          "execution_count": 55
        }
      ],
      "source": [
        "#Selecting the 100 no of tokenization for the dataset\n",
        "Dataset['clustering'][100]"
      ]
    },
    {
      "cell_type": "markdown",
      "metadata": {
        "id": "N2lROLgJLFVL"
      },
      "source": [
        "- **Vectorization**"
      ]
    },
    {
      "cell_type": "code",
      "execution_count": 56,
      "metadata": {
        "id": "vHMiC91iLHkB"
      },
      "outputs": [],
      "source": [
        "#Clustering tokens saved in  a variable\n",
        "clustering_vectorization= Dataset['clustering']"
      ]
    },
    {
      "cell_type": "code",
      "execution_count": 57,
      "metadata": {
        "id": "9X58GHuJLUpf"
      },
      "outputs": [],
      "source": [
        "#Tokenization\n",
        "def tokenizer(text):\n",
        "  return text"
      ]
    },
    {
      "cell_type": "code",
      "execution_count": 58,
      "metadata": {
        "id": "gRYoHT6kLW8j"
      },
      "outputs": [],
      "source": [
        "#Using tfidf vectorizer to vectorize the corpus\n",
        "#max features= 20000 to prevent system from crashing\n",
        "tfidf= TfidfVectorizer(tokenizer=tokenizer, stop_words='english',lowercase=False,max_features=20000)\n",
        "x = tfidf.fit_transform(clustering_vectorization)"
      ]
    },
    {
      "cell_type": "code",
      "execution_count": 59,
      "metadata": {
        "colab": {
          "base_uri": "https://localhost:8080/"
        },
        "id": "dIIqyTrQLcPl",
        "outputId": "976354d3-ca69-4dc0-90eb-a90df31a3a57"
      },
      "outputs": [
        {
          "output_type": "execute_result",
          "data": {
            "text/plain": [
              "(7777, 20000)"
            ]
          },
          "metadata": {},
          "execution_count": 59
        }
      ],
      "source": [
        "#Dataset rows and columns count\n",
        "x.shape"
      ]
    },
    {
      "cell_type": "code",
      "execution_count": 60,
      "metadata": {
        "id": "Xyudbk_HLfiz"
      },
      "outputs": [],
      "source": [
        "#Converting X into array form  for clustering\n",
        "X= x.toarray()"
      ]
    },
    {
      "cell_type": "code",
      "execution_count": 61,
      "metadata": {
        "colab": {
          "base_uri": "https://localhost:8080/"
        },
        "id": "g4rAvt6DLiN9",
        "outputId": "58c6e402-937a-4a8a-a0c1-affc217f1866"
      },
      "outputs": [
        {
          "output_type": "execute_result",
          "data": {
            "text/plain": [
              "array([[0., 0., 0., ..., 0., 0., 0.],\n",
              "       [0., 0., 0., ..., 0., 0., 0.],\n",
              "       [0., 0., 0., ..., 0., 0., 0.],\n",
              "       ...,\n",
              "       [0., 0., 0., ..., 0., 0., 0.],\n",
              "       [0., 0., 0., ..., 0., 0., 0.],\n",
              "       [0., 0., 0., ..., 0., 0., 0.]])"
            ]
          },
          "metadata": {},
          "execution_count": 61
        }
      ],
      "source": [
        "#Check the matrix\n",
        "X"
      ]
    },
    {
      "cell_type": "markdown",
      "metadata": {
        "id": "3x7KoyU6LmrE"
      },
      "source": [
        "- **Reducing Dimensionality using PCA**"
      ]
    },
    {
      "cell_type": "code",
      "execution_count": 62,
      "metadata": {
        "colab": {
          "base_uri": "https://localhost:8080/",
          "height": 74
        },
        "id": "CQONLmkc-hdX",
        "outputId": "e13eaf4a-406f-446d-c496-8cd04ce866a2"
      },
      "outputs": [
        {
          "output_type": "execute_result",
          "data": {
            "text/plain": [
              "PCA(random_state=40)"
            ],
            "text/html": [
              "<style>#sk-container-id-1 {color: black;background-color: white;}#sk-container-id-1 pre{padding: 0;}#sk-container-id-1 div.sk-toggleable {background-color: white;}#sk-container-id-1 label.sk-toggleable__label {cursor: pointer;display: block;width: 100%;margin-bottom: 0;padding: 0.3em;box-sizing: border-box;text-align: center;}#sk-container-id-1 label.sk-toggleable__label-arrow:before {content: \"▸\";float: left;margin-right: 0.25em;color: #696969;}#sk-container-id-1 label.sk-toggleable__label-arrow:hover:before {color: black;}#sk-container-id-1 div.sk-estimator:hover label.sk-toggleable__label-arrow:before {color: black;}#sk-container-id-1 div.sk-toggleable__content {max-height: 0;max-width: 0;overflow: hidden;text-align: left;background-color: #f0f8ff;}#sk-container-id-1 div.sk-toggleable__content pre {margin: 0.2em;color: black;border-radius: 0.25em;background-color: #f0f8ff;}#sk-container-id-1 input.sk-toggleable__control:checked~div.sk-toggleable__content {max-height: 200px;max-width: 100%;overflow: auto;}#sk-container-id-1 input.sk-toggleable__control:checked~label.sk-toggleable__label-arrow:before {content: \"▾\";}#sk-container-id-1 div.sk-estimator input.sk-toggleable__control:checked~label.sk-toggleable__label {background-color: #d4ebff;}#sk-container-id-1 div.sk-label input.sk-toggleable__control:checked~label.sk-toggleable__label {background-color: #d4ebff;}#sk-container-id-1 input.sk-hidden--visually {border: 0;clip: rect(1px 1px 1px 1px);clip: rect(1px, 1px, 1px, 1px);height: 1px;margin: -1px;overflow: hidden;padding: 0;position: absolute;width: 1px;}#sk-container-id-1 div.sk-estimator {font-family: monospace;background-color: #f0f8ff;border: 1px dotted black;border-radius: 0.25em;box-sizing: border-box;margin-bottom: 0.5em;}#sk-container-id-1 div.sk-estimator:hover {background-color: #d4ebff;}#sk-container-id-1 div.sk-parallel-item::after {content: \"\";width: 100%;border-bottom: 1px solid gray;flex-grow: 1;}#sk-container-id-1 div.sk-label:hover label.sk-toggleable__label {background-color: #d4ebff;}#sk-container-id-1 div.sk-serial::before {content: \"\";position: absolute;border-left: 1px solid gray;box-sizing: border-box;top: 0;bottom: 0;left: 50%;z-index: 0;}#sk-container-id-1 div.sk-serial {display: flex;flex-direction: column;align-items: center;background-color: white;padding-right: 0.2em;padding-left: 0.2em;position: relative;}#sk-container-id-1 div.sk-item {position: relative;z-index: 1;}#sk-container-id-1 div.sk-parallel {display: flex;align-items: stretch;justify-content: center;background-color: white;position: relative;}#sk-container-id-1 div.sk-item::before, #sk-container-id-1 div.sk-parallel-item::before {content: \"\";position: absolute;border-left: 1px solid gray;box-sizing: border-box;top: 0;bottom: 0;left: 50%;z-index: -1;}#sk-container-id-1 div.sk-parallel-item {display: flex;flex-direction: column;z-index: 1;position: relative;background-color: white;}#sk-container-id-1 div.sk-parallel-item:first-child::after {align-self: flex-end;width: 50%;}#sk-container-id-1 div.sk-parallel-item:last-child::after {align-self: flex-start;width: 50%;}#sk-container-id-1 div.sk-parallel-item:only-child::after {width: 0;}#sk-container-id-1 div.sk-dashed-wrapped {border: 1px dashed gray;margin: 0 0.4em 0.5em 0.4em;box-sizing: border-box;padding-bottom: 0.4em;background-color: white;}#sk-container-id-1 div.sk-label label {font-family: monospace;font-weight: bold;display: inline-block;line-height: 1.2em;}#sk-container-id-1 div.sk-label-container {text-align: center;}#sk-container-id-1 div.sk-container {/* jupyter's `normalize.less` sets `[hidden] { display: none; }` but bootstrap.min.css set `[hidden] { display: none !important; }` so we also need the `!important` here to be able to override the default hidden behavior on the sphinx rendered scikit-learn.org. See: https://github.com/scikit-learn/scikit-learn/issues/21755 */display: inline-block !important;position: relative;}#sk-container-id-1 div.sk-text-repr-fallback {display: none;}</style><div id=\"sk-container-id-1\" class=\"sk-top-container\"><div class=\"sk-text-repr-fallback\"><pre>PCA(random_state=40)</pre><b>In a Jupyter environment, please rerun this cell to show the HTML representation or trust the notebook. <br />On GitHub, the HTML representation is unable to render, please try loading this page with nbviewer.org.</b></div><div class=\"sk-container\" hidden><div class=\"sk-item\"><div class=\"sk-estimator sk-toggleable\"><input class=\"sk-toggleable__control sk-hidden--visually\" id=\"sk-estimator-id-1\" type=\"checkbox\" checked><label for=\"sk-estimator-id-1\" class=\"sk-toggleable__label sk-toggleable__label-arrow\">PCA</label><div class=\"sk-toggleable__content\"><pre>PCA(random_state=40)</pre></div></div></div></div></div>"
            ]
          },
          "metadata": {},
          "execution_count": 62
        }
      ],
      "source": [
        "#Using PCA to reduce dimensionality\n",
        "pca= PCA(random_state=40)\n",
        "pca.fit(X)"
      ]
    },
    {
      "cell_type": "code",
      "execution_count": 63,
      "metadata": {
        "colab": {
          "base_uri": "https://localhost:8080/",
          "height": 504
        },
        "id": "WsB8Vy0NLrBR",
        "outputId": "ea424c36-e509-4ad8-f50e-414bb9d05edf"
      },
      "outputs": [
        {
          "output_type": "execute_result",
          "data": {
            "text/plain": [
              "Text(0, 0.5, 'Cumulative explained variance')"
            ]
          },
          "metadata": {},
          "execution_count": 63
        },
        {
          "output_type": "display_data",
          "data": {
            "text/plain": [
              "<Figure size 500x500 with 1 Axes>"
            ],
            "image/png": "[encoded data removed]"
          },
          "metadata": {}
        }
      ],
      "source": [
        "#Explained variancefor different no of components\n",
        "plt.figure(figsize=(5,5))\n",
        "plt.plot(np.cumsum(pca.explained_variance_ratio_))\n",
        "plt.title('PCA- Cumulative explained variance vs Number of components')\n",
        "plt.xlabel('Number of components')\n",
        "plt.ylabel('Cumulative explained variance')"
      ]
    },
    {
      "cell_type": "code",
      "execution_count": 64,
      "metadata": {
        "colab": {
          "base_uri": "https://localhost:8080/",
          "height": 74
        },
        "id": "2i0JPUbSLwiM",
        "outputId": "2c3f62c9-3df5-402c-d964-b508020a78f1"
      },
      "outputs": [
        {
          "output_type": "execute_result",
          "data": {
            "text/plain": [
              "PCA(n_components=4000, random_state=40)"
            ],
            "text/html": [
              "<style>#sk-container-id-2 {color: black;background-color: white;}#sk-container-id-2 pre{padding: 0;}#sk-container-id-2 div.sk-toggleable {background-color: white;}#sk-container-id-2 label.sk-toggleable__label {cursor: pointer;display: block;width: 100%;margin-bottom: 0;padding: 0.3em;box-sizing: border-box;text-align: center;}#sk-container-id-2 label.sk-toggleable__label-arrow:before {content: \"▸\";float: left;margin-right: 0.25em;color: #696969;}#sk-container-id-2 label.sk-toggleable__label-arrow:hover:before {color: black;}#sk-container-id-2 div.sk-estimator:hover label.sk-toggleable__label-arrow:before {color: black;}#sk-container-id-2 div.sk-toggleable__content {max-height: 0;max-width: 0;overflow: hidden;text-align: left;background-color: #f0f8ff;}#sk-container-id-2 div.sk-toggleable__content pre {margin: 0.2em;color: black;border-radius: 0.25em;background-color: #f0f8ff;}#sk-container-id-2 input.sk-toggleable__control:checked~div.sk-toggleable__content {max-height: 200px;max-width: 100%;overflow: auto;}#sk-container-id-2 input.sk-toggleable__control:checked~label.sk-toggleable__label-arrow:before {content: \"▾\";}#sk-container-id-2 div.sk-estimator input.sk-toggleable__control:checked~label.sk-toggleable__label {background-color: #d4ebff;}#sk-container-id-2 div.sk-label input.sk-toggleable__control:checked~label.sk-toggleable__label {background-color: #d4ebff;}#sk-container-id-2 input.sk-hidden--visually {border: 0;clip: rect(1px 1px 1px 1px);clip: rect(1px, 1px, 1px, 1px);height: 1px;margin: -1px;overflow: hidden;padding: 0;position: absolute;width: 1px;}#sk-container-id-2 div.sk-estimator {font-family: monospace;background-color: #f0f8ff;border: 1px dotted black;border-radius: 0.25em;box-sizing: border-box;margin-bottom: 0.5em;}#sk-container-id-2 div.sk-estimator:hover {background-color: #d4ebff;}#sk-container-id-2 div.sk-parallel-item::after {content: \"\";width: 100%;border-bottom: 1px solid gray;flex-grow: 1;}#sk-container-id-2 div.sk-label:hover label.sk-toggleable__label {background-color: #d4ebff;}#sk-container-id-2 div.sk-serial::before {content: \"\";position: absolute;border-left: 1px solid gray;box-sizing: border-box;top: 0;bottom: 0;left: 50%;z-index: 0;}#sk-container-id-2 div.sk-serial {display: flex;flex-direction: column;align-items: center;background-color: white;padding-right: 0.2em;padding-left: 0.2em;position: relative;}#sk-container-id-2 div.sk-item {position: relative;z-index: 1;}#sk-container-id-2 div.sk-parallel {display: flex;align-items: stretch;justify-content: center;background-color: white;position: relative;}#sk-container-id-2 div.sk-item::before, #sk-container-id-2 div.sk-parallel-item::before {content: \"\";position: absolute;border-left: 1px solid gray;box-sizing: border-box;top: 0;bottom: 0;left: 50%;z-index: -1;}#sk-container-id-2 div.sk-parallel-item {display: flex;flex-direction: column;z-index: 1;position: relative;background-color: white;}#sk-container-id-2 div.sk-parallel-item:first-child::after {align-self: flex-end;width: 50%;}#sk-container-id-2 div.sk-parallel-item:last-child::after {align-self: flex-start;width: 50%;}#sk-container-id-2 div.sk-parallel-item:only-child::after {width: 0;}#sk-container-id-2 div.sk-dashed-wrapped {border: 1px dashed gray;margin: 0 0.4em 0.5em 0.4em;box-sizing: border-box;padding-bottom: 0.4em;background-color: white;}#sk-container-id-2 div.sk-label label {font-family: monospace;font-weight: bold;display: inline-block;line-height: 1.2em;}#sk-container-id-2 div.sk-label-container {text-align: center;}#sk-container-id-2 div.sk-container {/* jupyter's `normalize.less` sets `[hidden] { display: none; }` but bootstrap.min.css set `[hidden] { display: none !important; }` so we also need the `!important` here to be able to override the default hidden behavior on the sphinx rendered scikit-learn.org. See: https://github.com/scikit-learn/scikit-learn/issues/21755 */display: inline-block !important;position: relative;}#sk-container-id-2 div.sk-text-repr-fallback {display: none;}</style><div id=\"sk-container-id-2\" class=\"sk-top-container\"><div class=\"sk-text-repr-fallback\"><pre>PCA(n_components=4000, random_state=40)</pre><b>In a Jupyter environment, please rerun this cell to show the HTML representation or trust the notebook. <br />On GitHub, the HTML representation is unable to render, please try loading this page with nbviewer.org.</b></div><div class=\"sk-container\" hidden><div class=\"sk-item\"><div class=\"sk-estimator sk-toggleable\"><input class=\"sk-toggleable__control sk-hidden--visually\" id=\"sk-estimator-id-2\" type=\"checkbox\" checked><label for=\"sk-estimator-id-2\" class=\"sk-toggleable__label sk-toggleable__label-arrow\">PCA</label><div class=\"sk-toggleable__content\"><pre>PCA(n_components=4000, random_state=40)</pre></div></div></div></div></div>"
            ]
          },
          "metadata": {},
          "execution_count": 64
        }
      ],
      "source": [
        "#Reducing the dimensions to 4000 using pca\n",
        "pca= PCA(n_components=4000,random_state=40)\n",
        "pca.fit(X)"
      ]
    },
    {
      "cell_type": "code",
      "source": [
        "#Transformed features\n",
        "x_pca= pca.transform(X)"
      ],
      "metadata": {
        "id": "-ufViYKt-7HA"
      },
      "execution_count": 66,
      "outputs": []
    },
    {
      "cell_type": "code",
      "execution_count": 67,
      "metadata": {
        "id": "Vxx49upNL0Dr",
        "colab": {
          "base_uri": "https://localhost:8080/"
        },
        "outputId": "e7d27095-8e59-47a5-9387-4b8efedd70e0"
      },
      "outputs": [
        {
          "output_type": "execute_result",
          "data": {
            "text/plain": [
              "(7777, 4000)"
            ]
          },
          "metadata": {},
          "execution_count": 67
        }
      ],
      "source": [
        "#Shape of transformed vectors\n",
        "x_pca.shape"
      ]
    },
    {
      "cell_type": "markdown",
      "metadata": {
        "id": "AJsHTWaOL6VV"
      },
      "source": [
        "# **Machine Learning Clustering Algorithms**"
      ]
    },
    {
      "cell_type": "markdown",
      "metadata": {
        "id": "k-qmWxBCL_Uf"
      },
      "source": [
        "- **K-Means Clustering**"
      ]
    },
    {
      "cell_type": "code",
      "execution_count": 68,
      "metadata": {
        "colab": {
          "base_uri": "https://localhost:8080/",
          "height": 504
        },
        "id": "7QbXLAPiMEls",
        "outputId": "bdc58b37-60c6-4e6c-84d1-d53f7ef2aab2"
      },
      "outputs": [
        {
          "output_type": "execute_result",
          "data": {
            "text/plain": [
              "Text(0, 0.5, 'WCSS')"
            ]
          },
          "metadata": {},
          "execution_count": 68
        },
        {
          "output_type": "display_data",
          "data": {
            "text/plain": [
              "<Figure size 700x500 with 1 Axes>"
            ],
            "image/png": "[encoded data removed]"
          },
          "metadata": {}
        }
      ],
      "source": [
        "#Elbow method to find the optimal value of k\n",
        "wcss=[]\n",
        "for i in range(1,31):\n",
        "  kmeans= KMeans(n_clusters=i,init='k-means++',random_state=33)\n",
        "  kmeans.fit(x_pca)\n",
        "  wcss_iter= kmeans.inertia_\n",
        "  wcss.append(wcss_iter)\n",
        "\n",
        "number_clusters= range(1,31)\n",
        "plt.figure(figsize=(7,5))\n",
        "plt.plot(number_clusters, wcss)\n",
        "plt.title('The Elbow Method- KMeans Clustering')\n",
        "plt.xlabel('Number of clusters')\n",
        "plt.ylabel('WCSS')"
      ]
    },
    {
      "cell_type": "code",
      "execution_count": 69,
      "metadata": {
        "id": "sVvWEHTBMJzo",
        "colab": {
          "base_uri": "https://localhost:8080/",
          "height": 487
        },
        "outputId": "15a0a85c-a846-4229-8fa0-428ecceab957"
      },
      "outputs": [
        {
          "output_type": "display_data",
          "data": {
            "text/plain": [
              "<Figure size 700x500 with 1 Axes>"
            ],
            "image/png": "[encoded data removed]"
          },
          "metadata": {}
        }
      ],
      "source": [
        "#Plotting Silhouette score for dfrnt no of clusters\n",
        "range_n_clusters= range(2,31)\n",
        "silhouette_avg= []\n",
        "for num_clusters in range_n_clusters:\n",
        "  #Initialize kmeans\n",
        "  kmeans= KMeans(n_clusters= num_clusters,init='k-means++',random_state=33)\n",
        "  kmeans.fit(x_pca)\n",
        "  cluster_labels= kmeans.labels_\n",
        "\n",
        "  #Silhouette score\n",
        "  silhouette_avg.append(silhouette_score(x_pca, cluster_labels))\n",
        "\n",
        "plt.figure(figsize=(7,5))\n",
        "plt.plot(range_n_clusters,silhouette_avg)\n",
        "plt.xlabel('Value of K')\n",
        "plt.ylabel('Silhouette Score')\n",
        "plt.title('Silhouette analysis for optimal K-Means clustering')\n",
        "plt.show()"
      ]
    },
    {
      "cell_type": "code",
      "execution_count": 70,
      "metadata": {
        "id": "5vtReRsdMVBD",
        "colab": {
          "base_uri": "https://localhost:8080/",
          "height": 74
        },
        "outputId": "9c0fd02e-cc03-4616-c4a2-fad1b8c7ee2a"
      },
      "outputs": [
        {
          "output_type": "execute_result",
          "data": {
            "text/plain": [
              "KMeans(n_clusters=6, random_state=40)"
            ],
            "text/html": [
              "<style>#sk-container-id-3 {color: black;background-color: white;}#sk-container-id-3 pre{padding: 0;}#sk-container-id-3 div.sk-toggleable {background-color: white;}#sk-container-id-3 label.sk-toggleable__label {cursor: pointer;display: block;width: 100%;margin-bottom: 0;padding: 0.3em;box-sizing: border-box;text-align: center;}#sk-container-id-3 label.sk-toggleable__label-arrow:before {content: \"▸\";float: left;margin-right: 0.25em;color: #696969;}#sk-container-id-3 label.sk-toggleable__label-arrow:hover:before {color: black;}#sk-container-id-3 div.sk-estimator:hover label.sk-toggleable__label-arrow:before {color: black;}#sk-container-id-3 div.sk-toggleable__content {max-height: 0;max-width: 0;overflow: hidden;text-align: left;background-color: #f0f8ff;}#sk-container-id-3 div.sk-toggleable__content pre {margin: 0.2em;color: black;border-radius: 0.25em;background-color: #f0f8ff;}#sk-container-id-3 input.sk-toggleable__control:checked~div.sk-toggleable__content {max-height: 200px;max-width: 100%;overflow: auto;}#sk-container-id-3 input.sk-toggleable__control:checked~label.sk-toggleable__label-arrow:before {content: \"▾\";}#sk-container-id-3 div.sk-estimator input.sk-toggleable__control:checked~label.sk-toggleable__label {background-color: #d4ebff;}#sk-container-id-3 div.sk-label input.sk-toggleable__control:checked~label.sk-toggleable__label {background-color: #d4ebff;}#sk-container-id-3 input.sk-hidden--visually {border: 0;clip: rect(1px 1px 1px 1px);clip: rect(1px, 1px, 1px, 1px);height: 1px;margin: -1px;overflow: hidden;padding: 0;position: absolute;width: 1px;}#sk-container-id-3 div.sk-estimator {font-family: monospace;background-color: #f0f8ff;border: 1px dotted black;border-radius: 0.25em;box-sizing: border-box;margin-bottom: 0.5em;}#sk-container-id-3 div.sk-estimator:hover {background-color: #d4ebff;}#sk-container-id-3 div.sk-parallel-item::after {content: \"\";width: 100%;border-bottom: 1px solid gray;flex-grow: 1;}#sk-container-id-3 div.sk-label:hover label.sk-toggleable__label {background-color: #d4ebff;}#sk-container-id-3 div.sk-serial::before {content: \"\";position: absolute;border-left: 1px solid gray;box-sizing: border-box;top: 0;bottom: 0;left: 50%;z-index: 0;}#sk-container-id-3 div.sk-serial {display: flex;flex-direction: column;align-items: center;background-color: white;padding-right: 0.2em;padding-left: 0.2em;position: relative;}#sk-container-id-3 div.sk-item {position: relative;z-index: 1;}#sk-container-id-3 div.sk-parallel {display: flex;align-items: stretch;justify-content: center;background-color: white;position: relative;}#sk-container-id-3 div.sk-item::before, #sk-container-id-3 div.sk-parallel-item::before {content: \"\";position: absolute;border-left: 1px solid gray;box-sizing: border-box;top: 0;bottom: 0;left: 50%;z-index: -1;}#sk-container-id-3 div.sk-parallel-item {display: flex;flex-direction: column;z-index: 1;position: relative;background-color: white;}#sk-container-id-3 div.sk-parallel-item:first-child::after {align-self: flex-end;width: 50%;}#sk-container-id-3 div.sk-parallel-item:last-child::after {align-self: flex-start;width: 50%;}#sk-container-id-3 div.sk-parallel-item:only-child::after {width: 0;}#sk-container-id-3 div.sk-dashed-wrapped {border: 1px dashed gray;margin: 0 0.4em 0.5em 0.4em;box-sizing: border-box;padding-bottom: 0.4em;background-color: white;}#sk-container-id-3 div.sk-label label {font-family: monospace;font-weight: bold;display: inline-block;line-height: 1.2em;}#sk-container-id-3 div.sk-label-container {text-align: center;}#sk-container-id-3 div.sk-container {/* jupyter's `normalize.less` sets `[hidden] { display: none; }` but bootstrap.min.css set `[hidden] { display: none !important; }` so we also need the `!important` here to be able to override the default hidden behavior on the sphinx rendered scikit-learn.org. See: https://github.com/scikit-learn/scikit-learn/issues/21755 */display: inline-block !important;position: relative;}#sk-container-id-3 div.sk-text-repr-fallback {display: none;}</style><div id=\"sk-container-id-3\" class=\"sk-top-container\"><div class=\"sk-text-repr-fallback\"><pre>KMeans(n_clusters=6, random_state=40)</pre><b>In a Jupyter environment, please rerun this cell to show the HTML representation or trust the notebook. <br />On GitHub, the HTML representation is unable to render, please try loading this page with nbviewer.org.</b></div><div class=\"sk-container\" hidden><div class=\"sk-item\"><div class=\"sk-estimator sk-toggleable\"><input class=\"sk-toggleable__control sk-hidden--visually\" id=\"sk-estimator-id-3\" type=\"checkbox\" checked><label for=\"sk-estimator-id-3\" class=\"sk-toggleable__label sk-toggleable__label-arrow\">KMeans</label><div class=\"sk-toggleable__content\"><pre>KMeans(n_clusters=6, random_state=40)</pre></div></div></div></div></div>"
            ]
          },
          "metadata": {},
          "execution_count": 70
        }
      ],
      "source": [
        "#Clustering the data into 19 clusters\n",
        "kmeans= KMeans(n_clusters=6,init='k-means++',random_state=40)\n",
        "kmeans.fit(x_pca)"
      ]
    },
    {
      "cell_type": "code",
      "execution_count": 71,
      "metadata": {
        "id": "ceeze4DaMaB3"
      },
      "outputs": [],
      "source": [
        "#Adding a kmeans cluster number attribute\n",
        "Dataset['kmeans_cluster']= kmeans.labels_"
      ]
    },
    {
      "cell_type": "code",
      "execution_count": 72,
      "metadata": {
        "id": "HvIdTELZMcdm",
        "colab": {
          "base_uri": "https://localhost:8080/"
        },
        "outputId": "d9759193-2461-4ab3-a403-a9c4d407f077"
      },
      "outputs": [
        {
          "output_type": "stream",
          "name": "stdout",
          "text": [
            "(6408.909689852696, 0.0062827520779124655)\n"
          ]
        }
      ],
      "source": [
        "#Evaluation metrics- distortion, Silhouette score\n",
        "kmeans_distortion= kmeans.inertia_\n",
        "kmeans_silhouette_score= silhouette_score(x_pca,kmeans.labels_)\n",
        "\n",
        "print((kmeans_distortion,kmeans_silhouette_score))"
      ]
    },
    {
      "cell_type": "code",
      "execution_count": 73,
      "metadata": {
        "id": "RP61n0OHMdes",
        "colab": {
          "base_uri": "https://localhost:8080/",
          "height": 487
        },
        "outputId": "10396ab6-8410-4e53-9965-2c80c0e22dbc"
      },
      "outputs": [
        {
          "output_type": "display_data",
          "data": {
            "text/plain": [
              "<Figure size 700x500 with 1 Axes>"
            ],
            "image/png": "[encoded data removed]"
          },
          "metadata": {}
        }
      ],
      "source": [
        "#No of movies and tv shows in each cluster\n",
        "plt.figure(figsize=(7,5))\n",
        "q= sns.countplot(x= 'kmeans_cluster', data=Dataset, hue='type')\n",
        "plt.title('Number of movies and tv shows in each cluster- Kmeans clustering')\n",
        "for i in q.patches:\n",
        "  q.annotate(format(i.get_height(), '.0f'),(i.get_x() + i.get_width() / 2., i.get_height()), ha= 'center', va='center', xytext= (0,10), textcoords='offset points')"
      ]
    },
    {
      "cell_type": "code",
      "execution_count": 74,
      "metadata": {
        "id": "yDLVzzPCMhNs"
      },
      "outputs": [],
      "source": [
        "#Building a wordcloud for the movie descriptions\n",
        "def kmeans_wordcloud(cluster_num):\n",
        "  comment_words = ''\n",
        "  stopwords = set(STOPWORDS)\n",
        "\n",
        "  #Iterate through the csv file\n",
        "  for val in Dataset[Dataset['kmeans_cluster']==cluster_num].description.values:\n",
        "\n",
        "      #typecast each val to string\n",
        "      val= str(val)\n",
        "\n",
        "      #split the value\n",
        "      tokens= val.split()\n",
        "\n",
        "      #Converts each token into lowercase\n",
        "      for i in range(len(tokens)):\n",
        "        tokens[i]= tokens[i].lower()\n",
        "\n",
        "      comment_words += \" \".join(tokens)+ \" \"\n",
        "\n",
        "  wordcloud = WordCloud(width=500, height=500,\n",
        "                      background_color='white', \n",
        "                      stopwords= stopwords,\n",
        "                      min_font_size=10).generate(comment_words)"
      ]
    },
    {
      "cell_type": "markdown",
      "metadata": {
        "id": "sJJSZzqEMo7s"
      },
      "source": [
        "- **Hierarchical Clustering**"
      ]
    },
    {
      "cell_type": "code",
      "execution_count": 75,
      "metadata": {
        "id": "hhaINcgIMl50",
        "colab": {
          "base_uri": "https://localhost:8080/",
          "height": 662
        },
        "outputId": "41cdb907-a3b3-41ac-ef3e-a6b9eed9a154"
      },
      "outputs": [
        {
          "output_type": "execute_result",
          "data": {
            "text/plain": [
              "<matplotlib.lines.Line2D at 0x7f5d8ffa0c70>"
            ]
          },
          "metadata": {},
          "execution_count": 75
        },
        {
          "output_type": "display_data",
          "data": {
            "text/plain": [
              "<Figure size 1400x700 with 1 Axes>"
            ],
            "image/png": "[encoded data removed]"
          },
          "metadata": {}
        }
      ],
      "source": [
        "#Building a dendrogram to decide on the number of clusters\n",
        "plt.figure(figsize=(14,7))\n",
        "dend= shc.dendrogram(shc.linkage(x_pca, method='ward'))\n",
        "plt.title('dendrogram')\n",
        "plt.xlabel('Netflix Shows')\n",
        "plt.ylabel('Distance')\n",
        "plt.axhline(y=3.8, color='r', linestyle='--')"
      ]
    },
    {
      "cell_type": "code",
      "execution_count": 76,
      "metadata": {
        "id": "EdfGyM3aMwJh",
        "colab": {
          "base_uri": "https://localhost:8080/"
        },
        "outputId": "de4f905d-5849-41b7-ceda-2ffded7036dd"
      },
      "outputs": [
        {
          "output_type": "execute_result",
          "data": {
            "text/plain": [
              "array([ 0,  0,  1, ...,  4,  4, 10])"
            ]
          },
          "metadata": {},
          "execution_count": 76
        }
      ],
      "source": [
        "#Fitting hierarchical clustering model\n",
        "hierarchical = AgglomerativeClustering(n_clusters=12, affinity='euclidean',linkage='ward')\n",
        "hierarchical.fit_predict(x_pca)"
      ]
    },
    {
      "cell_type": "code",
      "execution_count": 77,
      "metadata": {
        "id": "OuJTEIAzMxCd"
      },
      "outputs": [],
      "source": [
        "#Adding a kmeans clusters number attribute\n",
        "Dataset['hierarchical_cluster']= hierarchical.labels_"
      ]
    },
    {
      "cell_type": "code",
      "execution_count": 78,
      "metadata": {
        "id": "4_ouH7oQM0w-",
        "colab": {
          "base_uri": "https://localhost:8080/",
          "height": 487
        },
        "outputId": "647e2bc0-22bf-481d-9d2b-ab44985d3e52"
      },
      "outputs": [
        {
          "output_type": "display_data",
          "data": {
            "text/plain": [
              "<Figure size 700x500 with 1 Axes>"
            ],
            "image/png": "[encoded data removed]"
          },
          "metadata": {}
        }
      ],
      "source": [
        "#Number of movies and tv shows in each cluster\n",
        "plt.figure(figsize=(7,5))\n",
        "q= sns.countplot(x='hierarchical_cluster',data=Dataset, hue='type')\n",
        "plt.title('Number of movies and tv shows in each cluster- Hierarchical Clustering')\n",
        "for i in q.patches:\n",
        "  q.annotate(format(i.get_height(), '.0f'),(i.get_x() + i.get_width() / 2., i.get_height()), ha= 'center', va='center', xytext= (0,10), textcoords='offset points')"
      ]
    },
    {
      "cell_type": "code",
      "execution_count": 79,
      "metadata": {
        "id": "wJyG6r7GM4Uu"
      },
      "outputs": [],
      "source": [
        "#Building a wordcloud for the movie descriptions\n",
        "def hierarchical_wordcloud(cluster_num):\n",
        " comment_words = ''\n",
        " stopwords = set(STOPWORDS)\n",
        "\n",
        " #Iterate through the csv file\n",
        " for val in Dataset[Dataset['hierarchical_cluster']==cluster_num].description.values:\n",
        "\n",
        "     #typecast each val to string\n",
        "     val= str(val)\n",
        "\n",
        "     #split the value\n",
        "     tokens= val.split()\n",
        "\n",
        "     #Converts each token into lowercase\n",
        "     for i in range(len(tokens)):\n",
        "       tokens[i]= tokens[i].lower()\n",
        "\n",
        "     comment_words += \" \".join(tokens)+ \" \"\n",
        "\n",
        " wordcloud = WordCloud(width=500, height=500,\n",
        "                        background_color='white',\n",
        "                        stopwords= stopwords,\n",
        "                        min_font_size=10).generate(comment_words)"
      ]
    },
    {
      "cell_type": "markdown",
      "metadata": {
        "id": "6IM_QfqbM9Gt"
      },
      "source": [
        "- **Using Content Based Recommender System**"
      ]
    },
    {
      "cell_type": "code",
      "execution_count": 80,
      "metadata": {
        "id": "Z0jtVXfpM53p"
      },
      "outputs": [],
      "source": [
        "#Changing the index of the Netflix_Movies from show id to show title\n",
        "Dataset['shoe_id']= Dataset.index"
      ]
    },
    {
      "cell_type": "code",
      "execution_count": 81,
      "metadata": {
        "id": "-crdAOk1NUju"
      },
      "outputs": [],
      "source": [
        "#Converting tokens to string\n",
        "def convert(lst):\n",
        "  return ''.join(lst)\n",
        "\n",
        "Dataset['clustering']= Dataset['clustering'].apply(lambda x: convert(x))"
      ]
    },
    {
      "cell_type": "code",
      "execution_count": 82,
      "metadata": {
        "id": "WaUigBztNWuU"
      },
      "outputs": [],
      "source": [
        "#Setting title of movies/Tv shows as index\n",
        "Dataset.set_index('title', inplace= True)"
      ]
    },
    {
      "cell_type": "code",
      "execution_count": 83,
      "metadata": {
        "id": "Q-rmhuzeNaFV"
      },
      "outputs": [],
      "source": [
        "#Count Vectorizer\n",
        "CV= CountVectorizer()\n",
        "converted_matrix= CV.fit_transform(Dataset['clustering'])"
      ]
    },
    {
      "cell_type": "code",
      "execution_count": 84,
      "metadata": {
        "id": "cB6jgCDBNcQ3"
      },
      "outputs": [],
      "source": [
        "#Cosine Similarity\n",
        "cosine_similarity= cosine_similarity(converted_matrix)"
      ]
    },
    {
      "cell_type": "code",
      "execution_count": 85,
      "metadata": {
        "id": "utVW5-coNdcl",
        "colab": {
          "base_uri": "https://localhost:8080/"
        },
        "outputId": "3d0eb647-09e7-482e-9bfb-c6aa2d16623d"
      },
      "outputs": [
        {
          "output_type": "execute_result",
          "data": {
            "text/plain": [
              "(7777, 7777)"
            ]
          },
          "metadata": {},
          "execution_count": 85
        }
      ],
      "source": [
        "#Dataset rows and columns count\n",
        "cosine_similarity.shape"
      ]
    },
    {
      "cell_type": "code",
      "execution_count": 86,
      "metadata": {
        "id": "q1EJjLuiNfXK"
      },
      "outputs": [],
      "source": [
        "#Developing a function to get 10 recommendations for a show\n",
        "indices= pd.Series(Dataset.index)\n",
        "\n",
        "def Dataset_10(title, cosine_sim= cosine_similarity):\n",
        "  try:\n",
        "    recommend_content= []\n",
        "    idx= indices[indices==title].index[0]\n",
        "    series= pd.Series(cosine_sim[idx]).sort_values(ascending= False)\n",
        "    top10= list(series.iloc[1:11].index)\n",
        "    #List with the titlesof the best 10 matching movies\n",
        "    for i in top10:\n",
        "      recommend_content.append(list(Dataset.index)[i])\n",
        "    print(\"If you liked''\"+title+\"', ypu may also enjoy:\\n\")\n",
        "    return recommend_content\n",
        "\n",
        "  except:\n",
        "    return 'invalid Entry'"
      ]
    },
    {
      "cell_type": "code",
      "execution_count": 87,
      "metadata": {
        "id": "GYgCxsgBNlnX",
        "colab": {
          "base_uri": "https://localhost:8080/"
        },
        "outputId": "dc84de82-ce45-4e79-8288-fc9a5723c0dd"
      },
      "outputs": [
        {
          "output_type": "stream",
          "name": "stdout",
          "text": [
            "If you liked''A Man Called God', ypu may also enjoy:\n",
            "\n"
          ]
        },
        {
          "output_type": "execute_result",
          "data": {
            "text/plain": [
              "['3%',\n",
              " 'Ride Like a Girl',\n",
              " 'Richie Rich',\n",
              " 'Richard Pryor: Live in Concert',\n",
              " 'Rich in Love',\n",
              " 'Ricardo Quevedo: Los amargados somos más',\n",
              " 'Ricardo Quevedo: Hay gente así',\n",
              " \"Ricardo O'Farrill: Abrazo navideño\",\n",
              " \"Ricardo O'Farrill Abrazo Genial\",\n",
              " 'Rica, Famosa, Latina']"
            ]
          },
          "metadata": {},
          "execution_count": 87
        }
      ],
      "source": [
        "#Recommendations for ' Man Called God'\n",
        "Dataset_10('A Man Called God')"
      ]
    },
    {
      "cell_type": "code",
      "execution_count": 88,
      "metadata": {
        "id": "QR9uhJQqNoWd",
        "colab": {
          "base_uri": "https://localhost:8080/"
        },
        "outputId": "9aab9712-a397-46d6-c276-2dba45b995ad"
      },
      "outputs": [
        {
          "output_type": "stream",
          "name": "stdout",
          "text": [
            "If you liked''Peaky Blinders', ypu may also enjoy:\n",
            "\n"
          ]
        },
        {
          "output_type": "execute_result",
          "data": {
            "text/plain": [
              "['3%',\n",
              " 'Rhyme Time Town',\n",
              " 'Ricky Gervais: Humanity',\n",
              " 'Richie Rich',\n",
              " 'Richard Pryor: Live in Concert',\n",
              " 'Rich in Love',\n",
              " 'Ricardo Quevedo: Los amargados somos más',\n",
              " 'Ricardo Quevedo: Hay gente así',\n",
              " \"Ricardo O'Farrill: Abrazo navideño\",\n",
              " \"Ricardo O'Farrill Abrazo Genial\"]"
            ]
          },
          "metadata": {},
          "execution_count": 88
        }
      ],
      "source": [
        "#Recommendations for 'Peaky Blinders'\n",
        "Dataset_10('Peaky Blinders')"
      ]
    },
    {
      "cell_type": "code",
      "execution_count": 89,
      "metadata": {
        "id": "MqqQnDs7NqiB",
        "colab": {
          "base_uri": "https://localhost:8080/"
        },
        "outputId": "8c7e8031-bebe-43ba-9a5e-ca89c3f5caa4"
      },
      "outputs": [
        {
          "output_type": "stream",
          "name": "stdout",
          "text": [
            "If you liked''Stranger Things', ypu may also enjoy:\n",
            "\n"
          ]
        },
        {
          "output_type": "execute_result",
          "data": {
            "text/plain": [
              "['3%',\n",
              " 'Rezeta',\n",
              " 'Ricky Gervais: Humanity',\n",
              " 'Richie Rich',\n",
              " 'Richard Pryor: Live in Concert',\n",
              " 'Rich in Love',\n",
              " 'Ricardo Quevedo: Los amargados somos más',\n",
              " 'Ricardo Quevedo: Hay gente así',\n",
              " \"Ricardo O'Farrill: Abrazo navideño\",\n",
              " \"Ricardo O'Farrill Abrazo Genial\"]"
            ]
          },
          "metadata": {},
          "execution_count": 89
        }
      ],
      "source": [
        "#Recommendations for 'Stranger Things'\n",
        "Dataset_10('Stranger Things')"
      ]
    },
    {
      "cell_type": "markdown",
      "metadata": {
        "id": "rHJyLPckNr0R"
      },
      "source": [
        "# **Conclusion**"
      ]
    },
    {
      "cell_type": "markdown",
      "metadata": {
        "id": "mMxF8xw8OQO9"
      },
      "source": [
        "- The data contains about 7787 rows and 12 columns.\n",
        "\n",
        "- Netflix hosts more movies than tv shows on its platform. \n",
        "\n",
        "- Once obtained the required insights from the EDA , i started with preprocessing the text data by removing punctuation and stopwords.This filtered data is passed through TF-IDF vectorizer since in conducting a text based clustering and the model needs the data to be vectorized in order to predict the desired result.\n",
        "\n",
        "- TF-IDF vectorization is a common and effective technique for preparing text data for clustering, so it's great to see you utilizing it.\n",
        "\n",
        "- Clustering is a powerful tool for uncovering patterns and relationships within a dataset, and can be particularly useful for text data where there may be underlying themes or topics. I hope your clustering analysis is able to provide valuable insights and inform decision-making"
      ]
    }
  ],
  "metadata": {
    "colab": {
      "collapsed_sections": [
        "I0Q0Sn3CpwlP",
        "VMhN_x4Sq8bO",
        "CrlDkV1mrDSw",
        "1c_mO3pvrwad",
        "AFpADAEar995",
        "hi6zbe-0sZOW",
        "XWA99hOVtEAu",
        "4PoKs1wBuEK6",
        "qzlVMswwvTb4",
        "aeSnCwsWxCMn",
        "sHGc80Wq0e-z"
      ],
      "provenance": [],
      "mount_file_id": "1eLnk-clHySMHwOmwN8gCrBiDx_LtqLQy",
      "authorship_tag": "ABX9TyMwPOx25HLUj1RRQEcX2IqW",
      "include_colab_link": true
    },
    "kernelspec": {
      "display_name": "Python 3",
      "name": "python3"
    },
    "language_info": {
      "name": "python"
    }
  },
  "nbformat": 4,
  "nbformat_minor": 0
}